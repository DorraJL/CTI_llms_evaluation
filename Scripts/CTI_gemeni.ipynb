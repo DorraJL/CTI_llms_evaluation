{
  "cells": [
    {
      "cell_type": "markdown",
      "source": [
        "# **Evaluation of CTI-Bench dataset**"
      ],
      "metadata": {
        "id": "BWChcTCrm3jg"
      }
    },
    {
      "cell_type": "code",
      "execution_count": null,
      "metadata": {
        "id": "xcJzzcJn8G1b",
        "colab": {
          "base_uri": "https://localhost:8080/"
        },
        "outputId": "7bdec7cb-097f-4073-d905-5f479ea18a7f"
      },
      "outputs": [
        {
          "output_type": "stream",
          "name": "stdout",
          "text": [
            "Requirement already satisfied: google-generativeai in /usr/local/lib/python3.10/dist-packages (0.7.2)\n",
            "Requirement already satisfied: google-ai-generativelanguage==0.6.6 in /usr/local/lib/python3.10/dist-packages (from google-generativeai) (0.6.6)\n",
            "Requirement already satisfied: google-api-core in /usr/local/lib/python3.10/dist-packages (from google-generativeai) (2.19.1)\n",
            "Requirement already satisfied: google-api-python-client in /usr/local/lib/python3.10/dist-packages (from google-generativeai) (2.137.0)\n",
            "Requirement already satisfied: google-auth>=2.15.0 in /usr/local/lib/python3.10/dist-packages (from google-generativeai) (2.27.0)\n",
            "Requirement already satisfied: protobuf in /usr/local/lib/python3.10/dist-packages (from google-generativeai) (3.20.3)\n",
            "Requirement already satisfied: pydantic in /usr/local/lib/python3.10/dist-packages (from google-generativeai) (2.8.2)\n",
            "Requirement already satisfied: tqdm in /usr/local/lib/python3.10/dist-packages (from google-generativeai) (4.66.5)\n",
            "Requirement already satisfied: typing-extensions in /usr/local/lib/python3.10/dist-packages (from google-generativeai) (4.12.2)\n",
            "Requirement already satisfied: proto-plus<2.0.0dev,>=1.22.3 in /usr/local/lib/python3.10/dist-packages (from google-ai-generativelanguage==0.6.6->google-generativeai) (1.24.0)\n",
            "Requirement already satisfied: googleapis-common-protos<2.0.dev0,>=1.56.2 in /usr/local/lib/python3.10/dist-packages (from google-api-core->google-generativeai) (1.63.2)\n",
            "Requirement already satisfied: requests<3.0.0.dev0,>=2.18.0 in /usr/local/lib/python3.10/dist-packages (from google-api-core->google-generativeai) (2.32.3)\n",
            "Requirement already satisfied: cachetools<6.0,>=2.0.0 in /usr/local/lib/python3.10/dist-packages (from google-auth>=2.15.0->google-generativeai) (5.4.0)\n",
            "Requirement already satisfied: pyasn1-modules>=0.2.1 in /usr/local/lib/python3.10/dist-packages (from google-auth>=2.15.0->google-generativeai) (0.4.0)\n",
            "Requirement already satisfied: rsa<5,>=3.1.4 in /usr/local/lib/python3.10/dist-packages (from google-auth>=2.15.0->google-generativeai) (4.9)\n",
            "Requirement already satisfied: httplib2<1.dev0,>=0.19.0 in /usr/local/lib/python3.10/dist-packages (from google-api-python-client->google-generativeai) (0.22.0)\n",
            "Requirement already satisfied: google-auth-httplib2<1.0.0,>=0.2.0 in /usr/local/lib/python3.10/dist-packages (from google-api-python-client->google-generativeai) (0.2.0)\n",
            "Requirement already satisfied: uritemplate<5,>=3.0.1 in /usr/local/lib/python3.10/dist-packages (from google-api-python-client->google-generativeai) (4.1.1)\n",
            "Requirement already satisfied: annotated-types>=0.4.0 in /usr/local/lib/python3.10/dist-packages (from pydantic->google-generativeai) (0.7.0)\n",
            "Requirement already satisfied: pydantic-core==2.20.1 in /usr/local/lib/python3.10/dist-packages (from pydantic->google-generativeai) (2.20.1)\n",
            "Requirement already satisfied: grpcio<2.0dev,>=1.33.2 in /usr/local/lib/python3.10/dist-packages (from google-api-core[grpc]!=2.0.*,!=2.1.*,!=2.10.*,!=2.2.*,!=2.3.*,!=2.4.*,!=2.5.*,!=2.6.*,!=2.7.*,!=2.8.*,!=2.9.*,<3.0.0dev,>=1.34.1->google-ai-generativelanguage==0.6.6->google-generativeai) (1.64.1)\n",
            "Requirement already satisfied: grpcio-status<2.0.dev0,>=1.33.2 in /usr/local/lib/python3.10/dist-packages (from google-api-core[grpc]!=2.0.*,!=2.1.*,!=2.10.*,!=2.2.*,!=2.3.*,!=2.4.*,!=2.5.*,!=2.6.*,!=2.7.*,!=2.8.*,!=2.9.*,<3.0.0dev,>=1.34.1->google-ai-generativelanguage==0.6.6->google-generativeai) (1.48.2)\n",
            "Requirement already satisfied: pyparsing!=3.0.0,!=3.0.1,!=3.0.2,!=3.0.3,<4,>=2.4.2 in /usr/local/lib/python3.10/dist-packages (from httplib2<1.dev0,>=0.19.0->google-api-python-client->google-generativeai) (3.1.2)\n",
            "Requirement already satisfied: pyasn1<0.7.0,>=0.4.6 in /usr/local/lib/python3.10/dist-packages (from pyasn1-modules>=0.2.1->google-auth>=2.15.0->google-generativeai) (0.6.0)\n",
            "Requirement already satisfied: charset-normalizer<4,>=2 in /usr/local/lib/python3.10/dist-packages (from requests<3.0.0.dev0,>=2.18.0->google-api-core->google-generativeai) (3.3.2)\n",
            "Requirement already satisfied: idna<4,>=2.5 in /usr/local/lib/python3.10/dist-packages (from requests<3.0.0.dev0,>=2.18.0->google-api-core->google-generativeai) (3.7)\n",
            "Requirement already satisfied: urllib3<3,>=1.21.1 in /usr/local/lib/python3.10/dist-packages (from requests<3.0.0.dev0,>=2.18.0->google-api-core->google-generativeai) (2.0.7)\n",
            "Requirement already satisfied: certifi>=2017.4.17 in /usr/local/lib/python3.10/dist-packages (from requests<3.0.0.dev0,>=2.18.0->google-api-core->google-generativeai) (2024.7.4)\n"
          ]
        }
      ],
      "source": [
        "!pip install google-generativeai"
      ]
    },
    {
      "cell_type": "code",
      "execution_count": null,
      "metadata": {
        "id": "07AhqpJG8MZV"
      },
      "outputs": [],
      "source": [
        "import google.generativeai as genai\n",
        "from google.colab import userdata\n",
        "gemini_key = userdata.get('key1')\n",
        "genai.configure(api_key=gemini_key)"
      ]
    },
    {
      "cell_type": "code",
      "execution_count": null,
      "metadata": {
        "id": "iUhxl_JV8e4b"
      },
      "outputs": [],
      "source": [
        "# configuration du modèle\n",
        "generation_config = {\n",
        "  \"temperature\": 0.9,\n",
        "  \"top_p\": 1,\n",
        "  \"top_k\": 5,\n",
        "  \"max_output_tokens\": 170,\n",
        "}"
      ]
    },
    {
      "cell_type": "code",
      "execution_count": null,
      "metadata": {
        "id": "RFav6fJY8hx3"
      },
      "outputs": [],
      "source": [
        "# appel au modèle generative avec la configuration déjà fixée\n",
        "model = genai.GenerativeModel(model_name= \"gemini-1.0-pro\",\n",
        "                              generation_config = generation_config)"
      ]
    },
    {
      "cell_type": "code",
      "execution_count": null,
      "metadata": {
        "colab": {
          "base_uri": "https://localhost:8080/"
        },
        "id": "bwvDva8z8kib",
        "outputId": "eabe69a4-a13f-44f8-e45b-4c4ddccdf7be"
      },
      "outputs": [
        {
          "output_type": "stream",
          "name": "stdout",
          "text": [
            "Requirement already satisfied: pandas in /usr/local/lib/python3.10/dist-packages (2.1.4)\n",
            "Requirement already satisfied: numpy<2,>=1.22.4 in /usr/local/lib/python3.10/dist-packages (from pandas) (1.26.4)\n",
            "Requirement already satisfied: python-dateutil>=2.8.2 in /usr/local/lib/python3.10/dist-packages (from pandas) (2.8.2)\n",
            "Requirement already satisfied: pytz>=2020.1 in /usr/local/lib/python3.10/dist-packages (from pandas) (2024.1)\n",
            "Requirement already satisfied: tzdata>=2022.1 in /usr/local/lib/python3.10/dist-packages (from pandas) (2024.1)\n",
            "Requirement already satisfied: six>=1.5 in /usr/local/lib/python3.10/dist-packages (from python-dateutil>=2.8.2->pandas) (1.16.0)\n"
          ]
        }
      ],
      "source": [
        "!pip install pandas"
      ]
    },
    {
      "cell_type": "code",
      "execution_count": null,
      "metadata": {
        "id": "v-TB4TMo8nFb"
      },
      "outputs": [],
      "source": [
        "import pandas as pd\n",
        "def read_prompts(file):\n",
        "    try:\n",
        "        df = pd.read_csv(file, sep='\\t', encoding='utf-8')\n",
        "    except UnicodeDecodeError:\n",
        "        df = pd.read_csv(file, sep='\\t', encoding='ISO-8859-1')\n",
        "    prompts = []\n",
        "    for index, row in df.iterrows():\n",
        "        prompt = f\"\"\"\n",
        "        You are given a multiple-choice question (MCQ) from a Cyber Threat Intelligence (CTI) knowledge benchmark dataset. /\n",
        "        Your task is to choose the best option among the four provided. /\n",
        "        Return your answer as a single uppercase letter: A, B, C, or D. /\n",
        "        **Question:** {row['Question']} /\n",
        "        **Options:** A) {row['Option A']} B) {row['Option B']} C) {row['Option C']} D) {row['Option D']} /\n",
        "        **Important:** The last line of your answer should contain only the single letter corresponding to the best option, with no additional text. /\n",
        "        \"\"\"\n",
        "        prompts.append(prompt)\n",
        "    return df, prompts"
      ]
    },
    {
      "cell_type": "code",
      "execution_count": null,
      "metadata": {
        "id": "zH-6ZWE28qL0"
      },
      "outputs": [],
      "source": [
        "import time\n",
        "import requests\n",
        "from http.client import RemoteDisconnected\n",
        "from google.api_core.exceptions import TooManyRequests, InternalServerError\n",
        "import pandas as pd\n",
        "import os\n",
        "def execute_prompts(df, prompts):\n",
        "    results = []\n",
        "    correct_answers = df['GT'].tolist()\n",
        "    total_correct = 0\n",
        "    max_retries = 2500  # Maximum number of retries for connection errors\n",
        "\n",
        "    for i, prompt in enumerate(prompts):\n",
        "        retries = 0\n",
        "        while retries < max_retries:\n",
        "            try:\n",
        "                response = model.generate_content(prompt)\n",
        "                print(response.text)\n",
        "                if not hasattr(response, 'text'):\n",
        "                    raise ValueError(f\"Invalid operation: The `response.text` quick accessor requires the response to contain a valid `Part`, but none were returned. Please check the `candidate.safety_ratings` to determine if the response was blocked. Prompt number: {i+1}\")\n",
        "                result = response.text.strip()\n",
        "                results.append(result)\n",
        "                if result == correct_answers[i]:\n",
        "                    total_correct += 1\n",
        "                # Add a delay between requests to avoid hitting the rate limit\n",
        "                time.sleep(2)  # Adjust the sleep duration as needed\n",
        "                break  # Exit the retry loop if successful\n",
        "            except TooManyRequests:\n",
        "                print(f\"Too many requests. Retrying prompt {i+1} after a delay...\")\n",
        "                time.sleep(60)  # Wait for 60 seconds before retrying\n",
        "            except (ConnectionError, RemoteDisconnected) as e:\n",
        "                print(f\"Connection error: {e}. Retrying prompt {i+1}...\")\n",
        "                retries += 1\n",
        "                time.sleep(2)  # Adjust the sleep duration as needed\n",
        "            except ValueError as e:\n",
        "                print(f\"ValueError: {e}. Skipping prompt number {i+1}.\")\n",
        "                results.append(\"ERROR\")\n",
        "                break  # Skip this prompt\n",
        "            except InternalServerError as e:\n",
        "                print(f\"InternalServerError: {e}. Skipping prompt number {i+1}.\")\n",
        "                results.append(\"ERROR\")\n",
        "                break  # Skip this prompt\n",
        "\n",
        "        if retries == max_retries:\n",
        "            print(f\"Failed to process prompt {i+1} after {max_retries} retries.\")\n",
        "            results.append(\"ERROR\")\n",
        "\n",
        "    df['Gemini Response'] = results\n",
        "\n",
        "    # Calculate the total correct answers\n",
        "    accuracy = total_correct / len(correct_answers)\n",
        "    output_file = \"/content/gemini_mcq.tsv\"\n",
        "\n",
        "    if os.path.exists(output_file) and os.path.getsize(output_file) > 0:\n",
        "        try:\n",
        "            existing_df = pd.read_csv(output_file, sep='\\t', encoding='utf-8')\n",
        "        except UnicodeDecodeError:\n",
        "            existing_df = pd.read_csv(output_file, sep='\\t', encoding='latin1')\n",
        "        combined_df = pd.concat([existing_df, df], ignore_index=True)\n",
        "    else:\n",
        "        combined_df = df\n",
        "\n",
        "    # Save the updated file with Gemini's responses\n",
        "    combined_df.to_csv(output_file, sep='\\t', index=False)\n",
        "\n",
        "    # Print the total correct answers\n",
        "    print(f'Total correct responses by Gemini: {total_correct}/{len(correct_answers)}')\n",
        "    # Print the final accuracy\n",
        "    print(f'Final accuracy: {accuracy:.2%}')\n",
        "\n"
      ]
    },
    {
      "cell_type": "code",
      "execution_count": null,
      "metadata": {
        "id": "XRySh-yK3Tms"
      },
      "outputs": [],
      "source": [
        "df, prompts = read_prompts(\"/content/mcq1.tsv\")\n",
        "execute_prompts(df, prompts)"
      ]
    },
    {
      "cell_type": "markdown",
      "source": [
        "\n",
        "Total correct responses by Gemini: 115/199\n",
        "Final accuracy: 56.78%"
      ],
      "metadata": {
        "id": "bRm8NgjUr7RP"
      }
    },
    {
      "cell_type": "code",
      "source": [
        "prompt77= f\"\"\"You are given a multiple-choice question (MCQ) from a Cyber Threat Intelligence (CTI) knowledge benchmark dataset. \\\n",
        "Your task is to choose the best option among the four provided. \\\n",
        "Return your answer as a single uppercase letter: A, B, C, or D. \\\n",
        "**Question:** Which of the following groups used spearphishing emails to lure targets into downloading a Cobalt Strike beacon? (MITRE ATT&CK T1204.001: User Execution: Malicious Link)  \\\n",
        "**Options:** A) APT3 B) APT32 C) APT33 D) APT28  \\\n",
        "**Important:** The last line of your answer should contain only the single letter corresponding to the best option, with no additional text. \"\"\"\n",
        "response = model.generate_content(prompt77)\n",
        "print(response.text)"
      ],
      "metadata": {
        "colab": {
          "base_uri": "https://localhost:8080/",
          "height": 34
        },
        "id": "Gznbk9VnEfH5",
        "outputId": "11f17352-8a52-4b0f-8be4-8477d046b519"
      },
      "execution_count": null,
      "outputs": [
        {
          "output_type": "stream",
          "name": "stdout",
          "text": [
            "B\n"
          ]
        }
      ]
    },
    {
      "cell_type": "code",
      "source": [
        "prompt101= f\"\"\"You are given a multiple-choice question (MCQ) from a Cyber Threat Intelligence (CTI) knowledge benchmark dataset. \\\n",
        "Your task is to choose the best option among the four provided. Return your answer as a single uppercase letter: A, B, C, or D.  \\\n",
        "**Question:** Which malware from the provided examples can access a connected webcam and capture pictures?  \\\n",
        "**Options:** A) InvisiMole B) SDBbot C) Derusbi D) Pupy  \\\n",
        "**Important:** The last line of your answer should contain only the single letter corresponding to the best option, with no additional text.  \"\"\"\n",
        "response = model.generate_content(prompt101)\n",
        "print(response.text)"
      ],
      "metadata": {
        "colab": {
          "base_uri": "https://localhost:8080/",
          "height": 34
        },
        "id": "5n71tuApFkyR",
        "outputId": "37dbe873-39e7-4ade-b89c-3c3336a0322e"
      },
      "execution_count": null,
      "outputs": [
        {
          "output_type": "stream",
          "name": "stdout",
          "text": [
            "B\n"
          ]
        }
      ]
    },
    {
      "cell_type": "code",
      "source": [
        "prompt160= f\"\"\"You are given a multiple-choice question (MCQ) from a Cyber Threat Intelligence (CTI) knowledge benchmark dataset. \\\n",
        "Your task is to choose the best option among the four provided. \\\n",
        "Return your answer as a single uppercase letter: A, B, C, or D.  \\\n",
        "**Question:** Which group used a virus that propagates by infecting executables stored on shared drives according to the provided document?  \\\n",
        "**Options:** A) Darkhotel B) Miner-C C) Conti D) H1N1  \\\n",
        "**Important:** The last line of your answer should contain only the single letter corresponding to the best option, with no additional text. \"\"\"\n",
        "response = model.generate_content(prompt160)\n",
        "print(response.text)"
      ],
      "metadata": {
        "colab": {
          "base_uri": "https://localhost:8080/",
          "height": 34
        },
        "id": "ppUY38KoGE4z",
        "outputId": "a0c5abc3-5b45-40b8-aae0-b775f382e282"
      },
      "execution_count": null,
      "outputs": [
        {
          "output_type": "stream",
          "name": "stdout",
          "text": [
            "B\n"
          ]
        }
      ]
    },
    {
      "cell_type": "code",
      "source": [
        "df, prompts = read_prompts(\"/content/mcq2.tsv\")\n",
        "execute_prompts(df, prompts)"
      ],
      "metadata": {
        "id": "TLzt1PH33u-f",
        "colab": {
          "base_uri": "https://localhost:8080/",
          "height": 627
        },
        "outputId": "be7c60ad-1f00-4c78-d58d-2a3dea19b33c"
      },
      "execution_count": null,
      "outputs": [
        {
          "output_type": "stream",
          "name": "stderr",
          "text": [
            "WARNING:tornado.access:429 POST /v1beta/models/gemini-1.0-pro:generateContent?%24alt=json%3Benum-encoding%3Dint (127.0.0.1) 861.38ms\n"
          ]
        },
        {
          "output_type": "stream",
          "name": "stdout",
          "text": [
            "Too many requests. Retrying prompt 17 after a delay...\n"
          ]
        },
        {
          "output_type": "stream",
          "name": "stderr",
          "text": [
            "WARNING:tornado.access:429 POST /v1beta/models/gemini-1.0-pro:generateContent?%24alt=json%3Benum-encoding%3Dint (127.0.0.1) 456.59ms\n"
          ]
        },
        {
          "output_type": "stream",
          "name": "stdout",
          "text": [
            "Too many requests. Retrying prompt 35 after a delay...\n",
            "ValueError: Invalid operation: The `response.text` quick accessor requires the response to contain a valid `Part`, but none were returned. Please check the `candidate.safety_ratings` to determine if the response was blocked.. Skipping prompt number 42.\n"
          ]
        },
        {
          "output_type": "stream",
          "name": "stderr",
          "text": [
            "WARNING:tornado.access:429 POST /v1beta/models/gemini-1.0-pro:generateContent?%24alt=json%3Benum-encoding%3Dint (127.0.0.1) 481.92ms\n"
          ]
        },
        {
          "output_type": "stream",
          "name": "stdout",
          "text": [
            "Too many requests. Retrying prompt 53 after a delay...\n"
          ]
        },
        {
          "output_type": "stream",
          "name": "stderr",
          "text": [
            "WARNING:tornado.access:429 POST /v1beta/models/gemini-1.0-pro:generateContent?%24alt=json%3Benum-encoding%3Dint (127.0.0.1) 557.55ms\n"
          ]
        },
        {
          "output_type": "stream",
          "name": "stdout",
          "text": [
            "Too many requests. Retrying prompt 72 after a delay...\n"
          ]
        },
        {
          "output_type": "stream",
          "name": "stderr",
          "text": [
            "WARNING:tornado.access:429 POST /v1beta/models/gemini-1.0-pro:generateContent?%24alt=json%3Benum-encoding%3Dint (127.0.0.1) 533.12ms\n"
          ]
        },
        {
          "output_type": "stream",
          "name": "stdout",
          "text": [
            "Too many requests. Retrying prompt 91 after a delay...\n"
          ]
        },
        {
          "output_type": "stream",
          "name": "stderr",
          "text": [
            "WARNING:tornado.access:429 POST /v1beta/models/gemini-1.0-pro:generateContent?%24alt=json%3Benum-encoding%3Dint (127.0.0.1) 532.65ms\n"
          ]
        },
        {
          "output_type": "stream",
          "name": "stdout",
          "text": [
            "Too many requests. Retrying prompt 110 after a delay...\n",
            "ValueError: Invalid operation: The `response.text` quick accessor requires the response to contain a valid `Part`, but none were returned. Please check the `candidate.safety_ratings` to determine if the response was blocked.. Skipping prompt number 121.\n"
          ]
        },
        {
          "output_type": "stream",
          "name": "stderr",
          "text": [
            "WARNING:tornado.access:429 POST /v1beta/models/gemini-1.0-pro:generateContent?%24alt=json%3Benum-encoding%3Dint (127.0.0.1) 507.20ms\n"
          ]
        },
        {
          "output_type": "stream",
          "name": "stdout",
          "text": [
            "Too many requests. Retrying prompt 128 after a delay...\n"
          ]
        },
        {
          "output_type": "stream",
          "name": "stderr",
          "text": [
            "WARNING:tornado.access:429 POST /v1beta/models/gemini-1.0-pro:generateContent?%24alt=json%3Benum-encoding%3Dint (127.0.0.1) 659.49ms\n"
          ]
        },
        {
          "output_type": "stream",
          "name": "stdout",
          "text": [
            "Too many requests. Retrying prompt 146 after a delay...\n"
          ]
        },
        {
          "output_type": "stream",
          "name": "stderr",
          "text": [
            "WARNING:tornado.access:429 POST /v1beta/models/gemini-1.0-pro:generateContent?%24alt=json%3Benum-encoding%3Dint (127.0.0.1) 710.10ms\n"
          ]
        },
        {
          "output_type": "stream",
          "name": "stdout",
          "text": [
            "Too many requests. Retrying prompt 163 after a delay...\n"
          ]
        },
        {
          "output_type": "stream",
          "name": "stderr",
          "text": [
            "WARNING:tornado.access:429 POST /v1beta/models/gemini-1.0-pro:generateContent?%24alt=json%3Benum-encoding%3Dint (127.0.0.1) 658.68ms\n"
          ]
        },
        {
          "output_type": "stream",
          "name": "stdout",
          "text": [
            "Too many requests. Retrying prompt 180 after a delay...\n"
          ]
        },
        {
          "output_type": "stream",
          "name": "stderr",
          "text": [
            "WARNING:tornado.access:429 POST /v1beta/models/gemini-1.0-pro:generateContent?%24alt=json%3Benum-encoding%3Dint (127.0.0.1) 507.11ms\n"
          ]
        },
        {
          "output_type": "stream",
          "name": "stdout",
          "text": [
            "Too many requests. Retrying prompt 225 after a delay...\n"
          ]
        },
        {
          "output_type": "stream",
          "name": "stderr",
          "text": [
            "WARNING:tornado.access:429 POST /v1beta/models/gemini-1.0-pro:generateContent?%24alt=json%3Benum-encoding%3Dint (127.0.0.1) 709.78ms\n"
          ]
        },
        {
          "output_type": "stream",
          "name": "stdout",
          "text": [
            "Too many requests. Retrying prompt 242 after a delay...\n"
          ]
        },
        {
          "output_type": "stream",
          "name": "stderr",
          "text": [
            "WARNING:tornado.access:429 POST /v1beta/models/gemini-1.0-pro:generateContent?%24alt=json%3Benum-encoding%3Dint (127.0.0.1) 507.27ms\n"
          ]
        },
        {
          "output_type": "stream",
          "name": "stdout",
          "text": [
            "Too many requests. Retrying prompt 260 after a delay...\n"
          ]
        },
        {
          "output_type": "stream",
          "name": "stderr",
          "text": [
            "WARNING:tornado.access:429 POST /v1beta/models/gemini-1.0-pro:generateContent?%24alt=json%3Benum-encoding%3Dint (127.0.0.1) 532.56ms\n"
          ]
        },
        {
          "output_type": "stream",
          "name": "stdout",
          "text": [
            "Too many requests. Retrying prompt 278 after a delay...\n"
          ]
        },
        {
          "output_type": "stream",
          "name": "stderr",
          "text": [
            "WARNING:tornado.access:429 POST /v1beta/models/gemini-1.0-pro:generateContent?%24alt=json%3Benum-encoding%3Dint (127.0.0.1) 634.00ms\n"
          ]
        },
        {
          "output_type": "stream",
          "name": "stdout",
          "text": [
            "Too many requests. Retrying prompt 296 after a delay...\n",
            "Total correct responses by Gemini: 170/300\n",
            "Final accuracy: 56.67%\n"
          ]
        }
      ]
    },
    {
      "cell_type": "markdown",
      "source": [
        "\n",
        "Total correct responses by Gemini: 170/300\n",
        "Final accuracy: 56.67%"
      ],
      "metadata": {
        "id": "0s312ZphMeay"
      }
    },
    {
      "cell_type": "code",
      "source": [
        "prompt242 = f\"\"\" You are given a multiple-choice question (MCQ) from a Cyber Threat Intelligence (CTI) knowledge benchmark dataset. \\\n",
        "Your task is to choose the best option among the four provided. \\\n",
        "Return your answer as a single uppercase letter: A, B, C, or D.  \\\n",
        "**Question:** Which of the following malware examples triggers on a magic packet in TCP or UDP packets?  \\\n",
        "**Options:** A) BUSHWALK B) Ryuk C) SYNful Knock D) Penquin  \\\n",
        "**Important:** The last line of your answer should contain only the single letter corresponding to the best option, with no additional text.\"\"\"\n",
        "response = model.generate_content(prompt242)\n",
        "print(response.text)"
      ],
      "metadata": {
        "colab": {
          "base_uri": "https://localhost:8080/",
          "height": 34
        },
        "id": "eNmiX6DmM07U",
        "outputId": "215fa99e-5be5-4582-8057-e6e1ff49803b"
      },
      "execution_count": null,
      "outputs": [
        {
          "output_type": "stream",
          "name": "stdout",
          "text": [
            "A\n"
          ]
        }
      ]
    },
    {
      "cell_type": "code",
      "source": [
        "prompt321 = f\"\"\" You are given a multiple-choice question (MCQ) from a Cyber Threat Intelligence (CTI) knowledge benchmark dataset. \\\n",
        "Your task is to choose the best option among the four provided. Return your answer as a single uppercase letter: A, B, C, or D.  \\\n",
        "**Question:** In the context of MITRE ATT&CK, which group is known for injecting malicious code into legitimate, signed files in production environments? (Platform: Enterprise)  \\\n",
        "**Options:** A) Threat Group-3390 B) Dragonfly C) APT41 D) FIN7  \\\n",
        "**Important:** The last line of your answer should contain only the single letter corresponding to the best option, with no additional text. \"\"\"\n",
        "response = model.generate_content(prompt321)\n",
        "print(response.text)"
      ],
      "metadata": {
        "colab": {
          "base_uri": "https://localhost:8080/",
          "height": 34
        },
        "id": "hAkxuaUAOmOD",
        "outputId": "a20adcae-7156-4675-e19c-c0e590111075"
      },
      "execution_count": null,
      "outputs": [
        {
          "output_type": "stream",
          "name": "stdout",
          "text": [
            "A\n"
          ]
        }
      ]
    },
    {
      "cell_type": "markdown",
      "source": [
        " total des réponses correctes est 285/499 et Final accuracy ; 57.11%."
      ],
      "metadata": {
        "id": "HDZakNVmQuMS"
      }
    },
    {
      "cell_type": "code",
      "source": [
        "df, prompts = read_prompts(\"/content/mcq3.tsv\")\n",
        "execute_prompts(df, prompts)"
      ],
      "metadata": {
        "colab": {
          "base_uri": "https://localhost:8080/",
          "height": 1000
        },
        "id": "gafZiwrx3X05",
        "outputId": "c456ee3f-ae5f-434a-9861-913157dfe6ea"
      },
      "execution_count": null,
      "outputs": [
        {
          "output_type": "stream",
          "name": "stdout",
          "text": [
            "C\n",
            "B\n",
            "A\n",
            "C\n",
            "B\n",
            "B\n",
            "C\n",
            "A\n",
            "C\n",
            "B\n",
            "C\n",
            "C\n",
            "A\n",
            "B\n",
            "C\n",
            "A\n"
          ]
        },
        {
          "output_type": "stream",
          "name": "stderr",
          "text": [
            "WARNING:tornado.access:429 POST /v1beta/models/gemini-1.0-pro:generateContent?%24alt=json%3Benum-encoding%3Dint (127.0.0.1) 684.04ms\n"
          ]
        },
        {
          "output_type": "stream",
          "name": "stdout",
          "text": [
            "Too many requests. Retrying prompt 17 after a delay...\n",
            "B\n",
            "B\n",
            "B\n",
            "C\n",
            "B\n",
            "B\n",
            "A\n",
            "A\n",
            "A\n",
            "C\n",
            "A\n",
            "B\n",
            "A\n",
            "A\n",
            "B\n",
            "A\n",
            "B\n",
            "D\n",
            "B\n",
            "A\n",
            "D\n",
            "A\n",
            "A\n",
            "B\n",
            "A\n",
            "A\n",
            "A\n",
            "D\n",
            "C\n",
            "A\n",
            "A\n",
            "A\n",
            "B\n"
          ]
        },
        {
          "output_type": "stream",
          "name": "stderr",
          "text": [
            "WARNING:tornado.access:429 POST /v1beta/models/gemini-1.0-pro:generateContent?%24alt=json%3Benum-encoding%3Dint (127.0.0.1) 737.01ms\n"
          ]
        },
        {
          "output_type": "stream",
          "name": "stdout",
          "text": [
            "Too many requests. Retrying prompt 50 after a delay...\n",
            "C\n",
            "D\n",
            "B\n",
            "D\n",
            "C\n",
            "A\n",
            "D\n",
            "B\n",
            "C\n",
            "B\n",
            "B\n",
            "A\n",
            "C\n",
            "B\n",
            "A\n",
            "C\n",
            "A\n"
          ]
        },
        {
          "output_type": "stream",
          "name": "stderr",
          "text": [
            "WARNING:tornado.access:429 POST /v1beta/models/gemini-1.0-pro:generateContent?%24alt=json%3Benum-encoding%3Dint (127.0.0.1) 686.25ms\n"
          ]
        },
        {
          "output_type": "stream",
          "name": "stdout",
          "text": [
            "Too many requests. Retrying prompt 67 after a delay...\n",
            "A\n",
            "A\n",
            "A\n",
            "B\n",
            "A\n",
            "A\n",
            "A\n",
            "B\n",
            "A\n",
            "B\n",
            "B\n",
            "A\n",
            "C\n",
            "A\n",
            "A\n",
            "C\n",
            "B\n"
          ]
        },
        {
          "output_type": "stream",
          "name": "stderr",
          "text": [
            "WARNING:tornado.access:429 POST /v1beta/models/gemini-1.0-pro:generateContent?%24alt=json%3Benum-encoding%3Dint (127.0.0.1) 784.99ms\n"
          ]
        },
        {
          "output_type": "stream",
          "name": "stdout",
          "text": [
            "Too many requests. Retrying prompt 84 after a delay...\n",
            "A\n",
            "B\n",
            "B\n",
            "C\n",
            "C\n",
            "A\n",
            "C\n",
            "A\n",
            "D\n",
            "C\n",
            "D\n",
            "C\n",
            "C\n",
            "C\n",
            "C\n",
            "C\n",
            "A\n"
          ]
        },
        {
          "output_type": "stream",
          "name": "stderr",
          "text": [
            "WARNING:tornado.access:429 POST /v1beta/models/gemini-1.0-pro:generateContent?%24alt=json%3Benum-encoding%3Dint (127.0.0.1) 684.15ms\n"
          ]
        },
        {
          "output_type": "stream",
          "name": "stdout",
          "text": [
            "Too many requests. Retrying prompt 101 after a delay...\n",
            "A\n",
            "B\n",
            "B\n",
            "A\n",
            "A\n",
            "A\n",
            "B\n",
            "C\n",
            "C\n",
            "A\n",
            "B\n",
            "B\n",
            "B\n",
            "B\n",
            "D\n",
            "B\n"
          ]
        },
        {
          "output_type": "stream",
          "name": "stderr",
          "text": [
            "WARNING:tornado.access:429 POST /v1beta/models/gemini-1.0-pro:generateContent?%24alt=json%3Benum-encoding%3Dint (127.0.0.1) 835.53ms\n"
          ]
        },
        {
          "output_type": "stream",
          "name": "stdout",
          "text": [
            "Too many requests. Retrying prompt 117 after a delay...\n",
            "B\n",
            "B\n",
            "A\n",
            "D\n",
            "B\n",
            "B\n",
            "A\n",
            "B\n",
            "B\n",
            "A\n",
            "D\n",
            "A\n",
            "A\n",
            "B\n",
            "B\n",
            "C\n"
          ]
        },
        {
          "output_type": "stream",
          "name": "stderr",
          "text": [
            "WARNING:tornado.access:429 POST /v1beta/models/gemini-1.0-pro:generateContent?%24alt=json%3Benum-encoding%3Dint (127.0.0.1) 684.15ms\n"
          ]
        },
        {
          "output_type": "stream",
          "name": "stdout",
          "text": [
            "Too many requests. Retrying prompt 133 after a delay...\n",
            "A\n",
            "B\n",
            "B\n",
            "A\n",
            "C\n",
            "B\n",
            "B\n",
            "C\n",
            "A\n",
            "B\n",
            "A\n",
            "B\n",
            "A\n",
            "A\n",
            "C\n",
            "C\n",
            "A\n"
          ]
        },
        {
          "output_type": "stream",
          "name": "stderr",
          "text": [
            "WARNING:tornado.access:429 POST /v1beta/models/gemini-1.0-pro:generateContent?%24alt=json%3Benum-encoding%3Dint (127.0.0.1) 736.32ms\n"
          ]
        },
        {
          "output_type": "stream",
          "name": "stdout",
          "text": [
            "Too many requests. Retrying prompt 150 after a delay...\n",
            "C\n",
            "A\n",
            "B\n",
            "A\n",
            "B\n",
            "B\n",
            "C\n",
            "A\n",
            "D\n",
            "A\n",
            "A\n",
            "D\n",
            "A\n",
            "B\n",
            "A\n",
            "D\n",
            "A\n"
          ]
        },
        {
          "output_type": "stream",
          "name": "stderr",
          "text": [
            "WARNING:tornado.access:429 POST /v1beta/models/gemini-1.0-pro:generateContent?%24alt=json%3Benum-encoding%3Dint (127.0.0.1) 785.65ms\n"
          ]
        },
        {
          "output_type": "stream",
          "name": "stdout",
          "text": [
            "Too many requests. Retrying prompt 167 after a delay...\n",
            "A\n",
            "A\n",
            "C\n",
            "C\n",
            "B\n",
            "C\n",
            "C\n",
            "C\n",
            "D\n",
            "B\n",
            "C\n",
            "B\n",
            "C\n",
            "A\n",
            "C\n",
            "A\n",
            "A\n",
            "C\n"
          ]
        },
        {
          "output_type": "stream",
          "name": "stderr",
          "text": [
            "WARNING:tornado.access:429 POST /v1beta/models/gemini-1.0-pro:generateContent?%24alt=json%3Benum-encoding%3Dint (127.0.0.1) 786.59ms\n"
          ]
        },
        {
          "output_type": "stream",
          "name": "stdout",
          "text": [
            "Too many requests. Retrying prompt 185 after a delay...\n",
            "A\n",
            "B\n",
            "A\n",
            "B\n",
            "A\n",
            "A\n",
            "B\n",
            "D\n",
            "B\n",
            "B\n",
            "B\n",
            "B\n",
            "B\n",
            "B\n",
            "A\n",
            "Total correct responses by Gemini: 109/199\n",
            "Final accuracy: 54.77%\n"
          ]
        }
      ]
    },
    {
      "cell_type": "code",
      "source": [
        "df, prompts = read_prompts(\"/content/mcq3.tsv\")\n",
        "execute_prompts(df, prompts)"
      ],
      "metadata": {
        "colab": {
          "base_uri": "https://localhost:8080/",
          "height": 1000
        },
        "id": "Qx2w6A4McTAu",
        "outputId": "8963cd4b-0e32-453e-bd1e-14362c0c16a4"
      },
      "execution_count": null,
      "outputs": [
        {
          "output_type": "stream",
          "name": "stdout",
          "text": [
            "A\n",
            "A\n",
            "A\n",
            "B\n",
            "A\n",
            "C\n",
            "A\n",
            "B\n",
            "A\n",
            "B\n",
            "D\n",
            "B\n",
            "A\n",
            "D\n",
            "A\n",
            "A\n",
            "C\n",
            "C\n",
            "B\n",
            "B\n",
            "B\n",
            "B\n",
            "D\n",
            "B\n",
            "A\n",
            "C\n"
          ]
        },
        {
          "output_type": "stream",
          "name": "stderr",
          "text": [
            "WARNING:tornado.access:429 POST /v1beta/models/gemini-1.0-pro:generateContent?%24alt=json%3Benum-encoding%3Dint (127.0.0.1) 1113.53ms\n"
          ]
        },
        {
          "output_type": "stream",
          "name": "stdout",
          "text": [
            "Too many requests. Retrying prompt 27 after a delay...\n",
            "C\n",
            "A\n",
            "C\n",
            "B\n",
            "C\n",
            "A\n",
            "B\n",
            "C\n",
            "D\n",
            "A\n",
            "C\n",
            "C\n",
            "A\n",
            "B\n",
            "B\n",
            "D\n",
            "C\n",
            "A\n"
          ]
        },
        {
          "output_type": "stream",
          "name": "stderr",
          "text": [
            "WARNING:tornado.access:429 POST /v1beta/models/gemini-1.0-pro:generateContent?%24alt=json%3Benum-encoding%3Dint (127.0.0.1) 762.32ms\n"
          ]
        },
        {
          "output_type": "stream",
          "name": "stdout",
          "text": [
            "Too many requests. Retrying prompt 45 after a delay...\n",
            "B\n",
            "C\n",
            "B\n",
            "B\n",
            "B\n",
            "C\n",
            "A\n",
            "B\n",
            "A\n",
            "B\n",
            "A\n",
            "A\n",
            "B\n",
            "A\n",
            "B\n",
            "A\n",
            "A\n"
          ]
        },
        {
          "output_type": "stream",
          "name": "stderr",
          "text": [
            "WARNING:tornado.access:429 POST /v1beta/models/gemini-1.0-pro:generateContent?%24alt=json%3Benum-encoding%3Dint (127.0.0.1) 734.63ms\n"
          ]
        },
        {
          "output_type": "stream",
          "name": "stdout",
          "text": [
            "Too many requests. Retrying prompt 62 after a delay...\n",
            "C\n",
            "A\n",
            "C\n",
            "B\n",
            "A\n",
            "B\n",
            "A\n",
            "B\n",
            "C\n",
            "C\n",
            "C\n",
            "C\n",
            "B\n",
            "B\n",
            "B\n",
            "B\n",
            "B\n"
          ]
        },
        {
          "output_type": "stream",
          "name": "stderr",
          "text": [
            "WARNING:tornado.access:429 POST /v1beta/models/gemini-1.0-pro:generateContent?%24alt=json%3Benum-encoding%3Dint (127.0.0.1) 1139.59ms\n"
          ]
        },
        {
          "output_type": "stream",
          "name": "stdout",
          "text": [
            "Too many requests. Retrying prompt 79 after a delay...\n",
            "B\n",
            "D\n",
            "D\n",
            "A\n",
            "B\n",
            "A\n",
            "D\n",
            "B\n",
            "C\n",
            "C\n",
            "A\n",
            "A\n",
            "A\n",
            "C\n",
            "C\n",
            "D\n",
            "D\n",
            "B\n"
          ]
        },
        {
          "output_type": "stream",
          "name": "stderr",
          "text": [
            "WARNING:tornado.access:429 POST /v1beta/models/gemini-1.0-pro:generateContent?%24alt=json%3Benum-encoding%3Dint (127.0.0.1) 810.73ms\n"
          ]
        },
        {
          "output_type": "stream",
          "name": "stdout",
          "text": [
            "Too many requests. Retrying prompt 97 after a delay...\n",
            "B\n",
            "D\n",
            "A\n",
            "A\n",
            "C\n",
            "A\n",
            "A\n",
            "A\n",
            "C\n",
            "D\n",
            "A\n",
            "ValueError: Invalid operation: The `response.text` quick accessor requires the response to contain a valid `Part`, but none were returned. Please check the `candidate.safety_ratings` to determine if the response was blocked.. Skipping prompt number 108.\n",
            "B\n",
            "B\n",
            "B\n",
            "A\n",
            "C\n"
          ]
        },
        {
          "output_type": "stream",
          "name": "stderr",
          "text": [
            "WARNING:tornado.access:429 POST /v1beta/models/gemini-1.0-pro:generateContent?%24alt=json%3Benum-encoding%3Dint (127.0.0.1) 785.66ms\n"
          ]
        },
        {
          "output_type": "stream",
          "name": "stdout",
          "text": [
            "Too many requests. Retrying prompt 114 after a delay...\n",
            "B\n",
            "A\n",
            "C\n",
            "B\n",
            "A\n",
            "D\n",
            "B\n",
            "A\n",
            "D\n",
            "B\n",
            "D\n",
            "C\n",
            "B\n",
            "A\n",
            "A\n",
            "C\n",
            "B\n",
            "A\n"
          ]
        },
        {
          "output_type": "stream",
          "name": "stderr",
          "text": [
            "WARNING:tornado.access:429 POST /v1beta/models/gemini-1.0-pro:generateContent?%24alt=json%3Benum-encoding%3Dint (127.0.0.1) 708.90ms\n"
          ]
        },
        {
          "output_type": "stream",
          "name": "stdout",
          "text": [
            "Too many requests. Retrying prompt 132 after a delay...\n",
            "A\n",
            "A\n",
            "C\n",
            "C\n",
            "A\n",
            "A\n",
            "A\n",
            "A\n",
            "B\n",
            "A\n",
            "B\n",
            "A\n",
            "A\n",
            "A\n",
            "B\n",
            "A\n",
            "C\n"
          ]
        },
        {
          "output_type": "stream",
          "name": "stderr",
          "text": [
            "WARNING:tornado.access:429 POST /v1beta/models/gemini-1.0-pro:generateContent?%24alt=json%3Benum-encoding%3Dint (127.0.0.1) 736.18ms\n"
          ]
        },
        {
          "output_type": "stream",
          "name": "stdout",
          "text": [
            "Too many requests. Retrying prompt 149 after a delay...\n",
            "C\n",
            "B\n",
            "A\n",
            "A\n",
            "B\n",
            "C\n",
            "C\n",
            "B\n",
            "C\n",
            "B\n",
            "C\n",
            "A\n",
            "B\n",
            "C\n",
            "B\n",
            "C\n"
          ]
        },
        {
          "output_type": "stream",
          "name": "stderr",
          "text": [
            "WARNING:tornado.access:429 POST /v1beta/models/gemini-1.0-pro:generateContent?%24alt=json%3Benum-encoding%3Dint (127.0.0.1) 734.62ms\n"
          ]
        },
        {
          "output_type": "stream",
          "name": "stdout",
          "text": [
            "Too many requests. Retrying prompt 165 after a delay...\n",
            "D\n",
            "B\n",
            "A\n",
            "C\n",
            "A\n",
            "B\n",
            "A\n",
            "A\n",
            "B\n",
            "A\n",
            "A\n",
            "B\n",
            "A\n",
            "C\n",
            "C\n",
            "B\n",
            "D\n",
            "C\n"
          ]
        },
        {
          "output_type": "stream",
          "name": "stderr",
          "text": [
            "WARNING:tornado.access:429 POST /v1beta/models/gemini-1.0-pro:generateContent?%24alt=json%3Benum-encoding%3Dint (127.0.0.1) 835.33ms\n"
          ]
        },
        {
          "output_type": "stream",
          "name": "stdout",
          "text": [
            "Too many requests. Retrying prompt 183 after a delay...\n",
            "A\n",
            "D\n",
            "B\n",
            "B\n",
            "B\n",
            "D\n",
            "A\n",
            "B\n",
            "A\n",
            "C\n",
            "A\n",
            "D\n",
            "C\n",
            "A\n",
            "B\n",
            "C\n"
          ]
        },
        {
          "output_type": "stream",
          "name": "stderr",
          "text": [
            "WARNING:tornado.access:429 POST /v1beta/models/gemini-1.0-pro:generateContent?%24alt=json%3Benum-encoding%3Dint (127.0.0.1) 809.99ms\n"
          ]
        },
        {
          "output_type": "stream",
          "name": "stdout",
          "text": [
            "Too many requests. Retrying prompt 199 after a delay...\n",
            "A\n",
            "C\n",
            "B\n",
            "A\n",
            "C\n",
            "A\n",
            "C\n",
            "D\n",
            "A\n",
            "D\n",
            "C\n",
            "B\n",
            "C\n",
            "A\n",
            "A\n",
            "A\n",
            "C\n",
            "B\n"
          ]
        },
        {
          "output_type": "stream",
          "name": "stderr",
          "text": [
            "WARNING:tornado.access:429 POST /v1beta/models/gemini-1.0-pro:generateContent?%24alt=json%3Benum-encoding%3Dint (127.0.0.1) 709.20ms\n"
          ]
        },
        {
          "output_type": "stream",
          "name": "stdout",
          "text": [
            "Too many requests. Retrying prompt 217 after a delay...\n",
            "B\n",
            "B\n",
            "A\n",
            "C\n",
            "B\n",
            "C\n",
            "D\n",
            "A\n",
            "B\n",
            "C\n",
            "B\n",
            "B\n",
            "B\n",
            "D\n",
            "B\n",
            "A\n",
            "C\n"
          ]
        },
        {
          "output_type": "stream",
          "name": "stderr",
          "text": [
            "WARNING:tornado.access:429 POST /v1beta/models/gemini-1.0-pro:generateContent?%24alt=json%3Benum-encoding%3Dint (127.0.0.1) 734.58ms\n"
          ]
        },
        {
          "output_type": "stream",
          "name": "stdout",
          "text": [
            "Too many requests. Retrying prompt 234 after a delay...\n",
            "C\n",
            "C\n",
            "D\n",
            "B\n",
            "A\n",
            "B\n",
            "B\n",
            "A\n",
            "A\n",
            "B\n",
            "B\n",
            "A\n",
            "C\n",
            "B\n",
            "C\n",
            "B\n",
            "A\n"
          ]
        },
        {
          "output_type": "stream",
          "name": "stderr",
          "text": [
            "WARNING:tornado.access:429 POST /v1beta/models/gemini-1.0-pro:generateContent?%24alt=json%3Benum-encoding%3Dint (127.0.0.1) 761.64ms\n"
          ]
        },
        {
          "output_type": "stream",
          "name": "stdout",
          "text": [
            "Too many requests. Retrying prompt 251 after a delay...\n",
            "A\n",
            "Total correct responses by Gemini: 141/251\n",
            "Final accuracy: 56.18%\n"
          ]
        }
      ]
    },
    {
      "cell_type": "markdown",
      "source": [
        "Total correct responses by Gemini: 141/251\n",
        "Final accuracy: 56.18%"
      ],
      "metadata": {
        "id": "oUdWYNJAjIaH"
      }
    },
    {
      "cell_type": "code",
      "source": [
        "df, prompts = read_prompts(\"/content/mcq3.tsv\")\n",
        "execute_prompts(df, prompts)"
      ],
      "metadata": {
        "colab": {
          "base_uri": "https://localhost:8080/",
          "height": 1000
        },
        "id": "PJWDS4AmkGtH",
        "outputId": "f004a41a-42ab-45f2-ed45-b20ffb6f7c0d"
      },
      "execution_count": null,
      "outputs": [
        {
          "output_type": "stream",
          "name": "stdout",
          "text": [
            "A\n",
            "B\n",
            "A\n",
            "C\n",
            "B\n",
            "B\n",
            "B\n",
            "B\n",
            "B\n",
            "A\n",
            "B\n",
            "C\n",
            "C\n",
            "C\n",
            "A\n"
          ]
        },
        {
          "output_type": "stream",
          "name": "stderr",
          "text": [
            "WARNING:tornado.access:429 POST /v1beta/models/gemini-1.0-pro:generateContent?%24alt=json%3Benum-encoding%3Dint (127.0.0.1) 588.23ms\n"
          ]
        },
        {
          "output_type": "stream",
          "name": "stdout",
          "text": [
            "Too many requests. Retrying prompt 16 after a delay...\n",
            "A\n",
            "C\n",
            "B\n",
            "B\n",
            "B\n",
            "C\n",
            "C\n",
            "B\n",
            "A\n",
            "D\n",
            "B\n",
            "B\n",
            "B\n",
            "C\n",
            "D\n",
            "A\n",
            "A\n",
            "A\n",
            "A\n"
          ]
        },
        {
          "output_type": "stream",
          "name": "stderr",
          "text": [
            "WARNING:tornado.access:429 POST /v1beta/models/gemini-1.0-pro:generateContent?%24alt=json%3Benum-encoding%3Dint (127.0.0.1) 558.22ms\n"
          ]
        },
        {
          "output_type": "stream",
          "name": "stdout",
          "text": [
            "Too many requests. Retrying prompt 35 after a delay...\n",
            "B\n",
            "B\n",
            "C\n",
            "C\n",
            "B\n",
            "B\n",
            "A\n",
            "D\n",
            "D\n",
            "D\n",
            "C\n",
            "A\n",
            "D\n",
            "B\n",
            "A\n",
            "B\n",
            "C\n",
            "A\n"
          ]
        },
        {
          "output_type": "stream",
          "name": "stderr",
          "text": [
            "WARNING:tornado.access:429 POST /v1beta/models/gemini-1.0-pro:generateContent?%24alt=json%3Benum-encoding%3Dint (127.0.0.1) 583.37ms\n"
          ]
        },
        {
          "output_type": "stream",
          "name": "stdout",
          "text": [
            "Too many requests. Retrying prompt 53 after a delay...\n",
            "B\n",
            "A\n",
            "C\n",
            "B\n",
            "A\n",
            "C\n",
            "C\n",
            "A\n",
            "C\n",
            "B\n",
            "C\n",
            "B\n",
            "B\n",
            "A\n",
            "B\n",
            "A\n",
            "D\n",
            "C\n"
          ]
        },
        {
          "output_type": "stream",
          "name": "stderr",
          "text": [
            "WARNING:tornado.access:429 POST /v1beta/models/gemini-1.0-pro:generateContent?%24alt=json%3Benum-encoding%3Dint (127.0.0.1) 609.22ms\n"
          ]
        },
        {
          "output_type": "stream",
          "name": "stdout",
          "text": [
            "Too many requests. Retrying prompt 71 after a delay...\n",
            "D\n",
            "B\n",
            "B\n",
            "B\n",
            "A\n",
            "D\n",
            "A\n",
            "B\n",
            "C\n",
            "A\n",
            "B\n",
            "A\n",
            "A\n",
            "C\n",
            "D\n",
            "C\n",
            "B\n",
            "A\n"
          ]
        },
        {
          "output_type": "stream",
          "name": "stderr",
          "text": [
            "WARNING:tornado.access:429 POST /v1beta/models/gemini-1.0-pro:generateContent?%24alt=json%3Benum-encoding%3Dint (127.0.0.1) 1193.21ms\n"
          ]
        },
        {
          "output_type": "stream",
          "name": "stdout",
          "text": [
            "Too many requests. Retrying prompt 89 after a delay...\n",
            "A\n",
            "B\n",
            "C\n",
            "A\n",
            "A\n",
            "B\n",
            "A\n",
            "A\n",
            "D\n",
            "A\n",
            "A\n",
            "A\n",
            "B\n",
            "C\n",
            "C\n",
            "B\n",
            "C\n"
          ]
        },
        {
          "output_type": "stream",
          "name": "stderr",
          "text": [
            "WARNING:tornado.access:429 POST /v1beta/models/gemini-1.0-pro:generateContent?%24alt=json%3Benum-encoding%3Dint (127.0.0.1) 635.49ms\n"
          ]
        },
        {
          "output_type": "stream",
          "name": "stdout",
          "text": [
            "Too many requests. Retrying prompt 106 after a delay...\n",
            "A\n",
            "A\n",
            "B\n",
            "B\n",
            "D\n",
            "B\n",
            "A\n",
            "A\n",
            "C\n",
            "B\n",
            "D\n",
            "B\n",
            "B\n",
            "C\n",
            "C\n",
            "B\n",
            "A\n",
            "B\n"
          ]
        },
        {
          "output_type": "stream",
          "name": "stderr",
          "text": [
            "WARNING:tornado.access:429 POST /v1beta/models/gemini-1.0-pro:generateContent?%24alt=json%3Benum-encoding%3Dint (127.0.0.1) 509.32ms\n"
          ]
        },
        {
          "output_type": "stream",
          "name": "stdout",
          "text": [
            "Too many requests. Retrying prompt 124 after a delay...\n",
            "A\n",
            "B\n",
            "ValueError: Invalid operation: The `response.text` quick accessor requires the response to contain a valid `Part`, but none were returned. Please check the `candidate.safety_ratings` to determine if the response was blocked.. Skipping prompt number 126.\n",
            "A\n",
            "B\n",
            "A\n",
            "B\n",
            "D\n",
            "C\n",
            "B\n",
            "A\n",
            "A\n",
            "C\n",
            "C\n",
            "B\n",
            "B\n",
            "A\n"
          ]
        },
        {
          "output_type": "stream",
          "name": "stderr",
          "text": [
            "WARNING:tornado.access:429 POST /v1beta/models/gemini-1.0-pro:generateContent?%24alt=json%3Benum-encoding%3Dint (127.0.0.1) 610.52ms\n"
          ]
        },
        {
          "output_type": "stream",
          "name": "stdout",
          "text": [
            "Too many requests. Retrying prompt 141 after a delay...\n",
            "C\n",
            "B\n",
            "A\n",
            "A\n",
            "D\n",
            "B\n",
            "B\n",
            "C\n",
            "B\n",
            "C\n",
            "A\n",
            "C\n",
            "B\n",
            "A\n",
            "D\n",
            "A\n",
            "A\n",
            "C\n",
            "C\n",
            "A\n"
          ]
        },
        {
          "output_type": "stream",
          "name": "stderr",
          "text": [
            "WARNING:tornado.access:429 POST /v1beta/models/gemini-1.0-pro:generateContent?%24alt=json%3Benum-encoding%3Dint (127.0.0.1) 611.77ms\n"
          ]
        },
        {
          "output_type": "stream",
          "name": "stdout",
          "text": [
            "Too many requests. Retrying prompt 161 after a delay...\n",
            "B\n",
            "D\n",
            "B\n",
            "B\n",
            "D\n",
            "D\n",
            "C\n",
            "B\n",
            "B\n",
            "B\n",
            "D\n",
            "C\n",
            "B\n",
            "D\n",
            "C\n",
            "B\n",
            "A\n",
            "C\n"
          ]
        },
        {
          "output_type": "stream",
          "name": "stderr",
          "text": [
            "WARNING:tornado.access:429 POST /v1beta/models/gemini-1.0-pro:generateContent?%24alt=json%3Benum-encoding%3Dint (127.0.0.1) 712.19ms\n"
          ]
        },
        {
          "output_type": "stream",
          "name": "stdout",
          "text": [
            "Too many requests. Retrying prompt 179 after a delay...\n",
            "A\n",
            "D\n",
            "C\n",
            "A\n",
            "A\n",
            "D\n",
            "A\n",
            "B\n",
            "A\n",
            "C\n",
            "B\n",
            "C\n",
            "C\n",
            "C\n",
            "C\n",
            "A\n",
            "D\n",
            "B\n"
          ]
        },
        {
          "output_type": "stream",
          "name": "stderr",
          "text": [
            "WARNING:tornado.access:429 POST /v1beta/models/gemini-1.0-pro:generateContent?%24alt=json%3Benum-encoding%3Dint (127.0.0.1) 712.80ms\n"
          ]
        },
        {
          "output_type": "stream",
          "name": "stdout",
          "text": [
            "Too many requests. Retrying prompt 197 after a delay...\n",
            "A\n",
            "A\n",
            "A\n",
            "C\n",
            "B\n",
            "A\n",
            "D\n",
            "B\n",
            "B\n",
            "ValueError: Invalid operation: The `response.text` quick accessor requires the response to contain a valid `Part`, but none were returned. Please check the `candidate.safety_ratings` to determine if the response was blocked.. Skipping prompt number 206.\n",
            "C\n",
            "A\n",
            "B\n",
            "D\n",
            "B\n",
            "B\n"
          ]
        },
        {
          "output_type": "stream",
          "name": "stderr",
          "text": [
            "WARNING:tornado.access:429 POST /v1beta/models/gemini-1.0-pro:generateContent?%24alt=json%3Benum-encoding%3Dint (127.0.0.1) 583.48ms\n"
          ]
        },
        {
          "output_type": "stream",
          "name": "stdout",
          "text": [
            "Too many requests. Retrying prompt 213 after a delay...\n",
            "A\n",
            "A\n",
            "B\n",
            "D\n",
            "A\n",
            "C\n",
            "A\n",
            "B\n",
            "C\n",
            "ValueError: Invalid operation: The `response.text` quick accessor requires the response to contain a valid `Part`, but none were returned. Please check the `candidate.safety_ratings` to determine if the response was blocked.. Skipping prompt number 222.\n",
            "A\n",
            "B\n",
            "D\n",
            "D\n",
            "D\n",
            "C\n",
            "B\n",
            "A\n",
            "C\n"
          ]
        },
        {
          "output_type": "stream",
          "name": "stderr",
          "text": [
            "WARNING:tornado.access:429 POST /v1beta/models/gemini-1.0-pro:generateContent?%24alt=json%3Benum-encoding%3Dint (127.0.0.1) 508.92ms\n"
          ]
        },
        {
          "output_type": "stream",
          "name": "stdout",
          "text": [
            "Too many requests. Retrying prompt 232 after a delay...\n",
            "A\n",
            "B\n",
            "A\n",
            "C\n",
            "D\n",
            "B\n",
            "C\n",
            "A\n",
            "D\n",
            "B\n",
            "B\n",
            "B\n",
            "A\n",
            "A\n",
            "A\n",
            "C\n",
            "B\n",
            "B\n"
          ]
        },
        {
          "output_type": "stream",
          "name": "stderr",
          "text": [
            "WARNING:tornado.access:429 POST /v1beta/models/gemini-1.0-pro:generateContent?%24alt=json%3Benum-encoding%3Dint (127.0.0.1) 712.32ms\n"
          ]
        },
        {
          "output_type": "stream",
          "name": "stdout",
          "text": [
            "Too many requests. Retrying prompt 250 after a delay...\n",
            "A\n",
            "Total correct responses by Gemini: 141/250\n",
            "Final accuracy: 56.40%\n"
          ]
        }
      ]
    },
    {
      "cell_type": "markdown",
      "source": [
        "Total correct responses by Gemini: 141/250\n",
        "Final accuracy: 56.40%"
      ],
      "metadata": {
        "id": "AMKeC0ZNuZv5"
      }
    },
    {
      "cell_type": "code",
      "source": [
        "df, prompts = read_prompts(\"/content/mcq3.tsv\")\n",
        "execute_prompts(df, prompts)"
      ],
      "metadata": {
        "colab": {
          "base_uri": "https://localhost:8080/",
          "height": 1000
        },
        "id": "u-5_y5j_vdUr",
        "outputId": "2d5e6dc9-e3c2-49e8-ceb6-9b5033a0c638"
      },
      "execution_count": null,
      "outputs": [
        {
          "output_type": "stream",
          "name": "stdout",
          "text": [
            "D\n",
            "C\n",
            "A\n",
            "D\n",
            "D\n",
            "B\n",
            "A\n",
            "C\n",
            "A\n",
            "C\n",
            "ValueError: Invalid operation: The `response.text` quick accessor requires the response to contain a valid `Part`, but none were returned. Please check the `candidate.safety_ratings` to determine if the response was blocked.. Skipping prompt number 11.\n",
            "A\n",
            "ValueError: Invalid operation: The `response.text` quick accessor requires the response to contain a valid `Part`, but none were returned. Please check the `candidate.safety_ratings` to determine if the response was blocked.. Skipping prompt number 13.\n",
            "B\n",
            "B\n"
          ]
        },
        {
          "output_type": "stream",
          "name": "stderr",
          "text": [
            "WARNING:tornado.access:429 POST /v1beta/models/gemini-1.0-pro:generateContent?%24alt=json%3Benum-encoding%3Dint (127.0.0.1) 611.75ms\n"
          ]
        },
        {
          "output_type": "stream",
          "name": "stdout",
          "text": [
            "Too many requests. Retrying prompt 16 after a delay...\n",
            "A\n",
            "D\n",
            "A\n",
            "B\n",
            "A\n",
            "C\n",
            "A\n",
            "A\n",
            "B\n",
            "A\n",
            "B\n",
            "A\n",
            "A\n",
            "B\n",
            "C\n",
            "A\n",
            "B\n",
            "A\n",
            "C\n",
            "C\n",
            "A\n",
            "B\n"
          ]
        },
        {
          "output_type": "stream",
          "name": "stderr",
          "text": [
            "WARNING:tornado.access:429 POST /v1beta/models/gemini-1.0-pro:generateContent?%24alt=json%3Benum-encoding%3Dint (127.0.0.1) 684.28ms\n"
          ]
        },
        {
          "output_type": "stream",
          "name": "stdout",
          "text": [
            "Too many requests. Retrying prompt 38 after a delay...\n",
            "A\n",
            "C\n",
            "C\n",
            "C\n",
            "C\n",
            "A\n",
            "B\n",
            "B\n",
            "A\n",
            "D\n",
            "C\n",
            "B\n",
            "A\n",
            "B\n",
            "A\n",
            "C\n"
          ]
        },
        {
          "output_type": "stream",
          "name": "stderr",
          "text": [
            "WARNING:tornado.access:429 POST /v1beta/models/gemini-1.0-pro:generateContent?%24alt=json%3Benum-encoding%3Dint (127.0.0.1) 660.28ms\n"
          ]
        },
        {
          "output_type": "stream",
          "name": "stdout",
          "text": [
            "Too many requests. Retrying prompt 54 after a delay...\n",
            "C\n",
            "D\n",
            "C\n",
            "ValueError: Invalid operation: The `response.text` quick accessor requires the response to contain a valid `Part`, but none were returned. Please check the `candidate.safety_ratings` to determine if the response was blocked.. Skipping prompt number 57.\n",
            "A\n",
            "C\n",
            "A\n",
            "B\n",
            "B\n",
            "A\n",
            "A\n",
            "D\n",
            "A\n",
            "A\n",
            "D\n",
            "A\n",
            "B\n"
          ]
        },
        {
          "output_type": "stream",
          "name": "stderr",
          "text": [
            "WARNING:tornado.access:429 POST /v1beta/models/gemini-1.0-pro:generateContent?%24alt=json%3Benum-encoding%3Dint (127.0.0.1) 887.86ms\n"
          ]
        },
        {
          "output_type": "stream",
          "name": "stdout",
          "text": [
            "Too many requests. Retrying prompt 71 after a delay...\n",
            "A\n",
            "A\n",
            "C\n",
            "B\n",
            "B\n",
            "A\n",
            "A\n",
            "B\n",
            "D\n",
            "B\n",
            "A\n",
            "C\n",
            "D\n",
            "B\n",
            "ValueError: Invalid operation: The `response.text` quick accessor requires the response to contain a valid `Part`, but none were returned. Please check the `candidate.safety_ratings` to determine if the response was blocked.. Skipping prompt number 85.\n",
            "A\n",
            "B\n",
            "A\n"
          ]
        },
        {
          "output_type": "stream",
          "name": "stderr",
          "text": [
            "WARNING:tornado.access:429 POST /v1beta/models/gemini-1.0-pro:generateContent?%24alt=json%3Benum-encoding%3Dint (127.0.0.1) 533.27ms\n"
          ]
        },
        {
          "output_type": "stream",
          "name": "stdout",
          "text": [
            "Too many requests. Retrying prompt 89 after a delay...\n",
            "C\n",
            "B\n",
            "B\n",
            "A\n",
            "C\n",
            "A\n",
            "D\n",
            "A\n",
            "A\n",
            "A\n",
            "A\n",
            "B\n",
            "B\n",
            "C\n",
            "B\n",
            "A\n",
            "B\n"
          ]
        },
        {
          "output_type": "stream",
          "name": "stderr",
          "text": [
            "WARNING:tornado.access:429 POST /v1beta/models/gemini-1.0-pro:generateContent?%24alt=json%3Benum-encoding%3Dint (127.0.0.1) 507.43ms\n"
          ]
        },
        {
          "output_type": "stream",
          "name": "stdout",
          "text": [
            "Too many requests. Retrying prompt 106 after a delay...\n",
            "A\n",
            "B\n",
            "B\n",
            "A\n",
            "A\n",
            "B\n",
            "B\n",
            "B\n",
            "B\n",
            "B\n",
            "A\n",
            "B\n",
            "C\n",
            "B\n",
            "A\n",
            "D\n",
            "B\n",
            "C\n"
          ]
        },
        {
          "output_type": "stream",
          "name": "stderr",
          "text": [
            "WARNING:tornado.access:429 POST /v1beta/models/gemini-1.0-pro:generateContent?%24alt=json%3Benum-encoding%3Dint (127.0.0.1) 560.23ms\n"
          ]
        },
        {
          "output_type": "stream",
          "name": "stdout",
          "text": [
            "Too many requests. Retrying prompt 124 after a delay...\n",
            "A\n",
            "A\n",
            "D\n",
            "B\n",
            "B\n",
            "B\n",
            "C\n",
            "A\n",
            "A\n",
            "A\n",
            "A\n",
            "A\n",
            "B\n",
            "A\n",
            "C\n",
            "A\n"
          ]
        },
        {
          "output_type": "stream",
          "name": "stderr",
          "text": [
            "WARNING:tornado.access:429 POST /v1beta/models/gemini-1.0-pro:generateContent?%24alt=json%3Benum-encoding%3Dint (127.0.0.1) 709.78ms\n"
          ]
        },
        {
          "output_type": "stream",
          "name": "stdout",
          "text": [
            "Too many requests. Retrying prompt 140 after a delay...\n",
            "C\n",
            "C\n",
            "D\n",
            "B\n",
            "A\n",
            "A\n",
            "A\n",
            "C\n",
            "A\n",
            "A\n",
            "C\n",
            "Total correct responses by Gemini: 66/150\n",
            "Final accuracy: 44.00%\n"
          ]
        }
      ]
    },
    {
      "cell_type": "markdown",
      "source": [
        "Total correct responses by Gemini: 66/150\n",
        "Final accuracy: 44.00%"
      ],
      "metadata": {
        "id": "Rq-sfkmBzuOJ"
      }
    },
    {
      "cell_type": "code",
      "source": [
        "df, prompts = read_prompts(\"/content/mcq3.tsv\")\n",
        "execute_prompts(df, prompts)"
      ],
      "metadata": {
        "colab": {
          "base_uri": "https://localhost:8080/",
          "height": 1000
        },
        "id": "r3_TQTmIMIF1",
        "outputId": "8d2df32f-dcb0-40ca-b726-54d3bcd5e45f"
      },
      "execution_count": null,
      "outputs": [
        {
          "output_type": "stream",
          "name": "stdout",
          "text": [
            "C\n",
            "C\n",
            "D\n",
            "B\n",
            "C\n",
            "B\n",
            "C\n",
            "C\n",
            "B\n",
            "B\n",
            "B\n",
            "A\n",
            "D\n",
            "B\n",
            "ValueError: Invalid operation: The `response.text` quick accessor requires the response to contain a valid `Part`, but none were returned. Please check the `candidate.safety_ratings` to determine if the response was blocked.. Skipping prompt number 15.\n",
            "A\n"
          ]
        },
        {
          "output_type": "stream",
          "name": "stderr",
          "text": [
            "WARNING:tornado.access:429 POST /v1beta/models/gemini-1.0-pro:generateContent?%24alt=json%3Benum-encoding%3Dint (127.0.0.1) 662.48ms\n"
          ]
        },
        {
          "output_type": "stream",
          "name": "stdout",
          "text": [
            "Too many requests. Retrying prompt 17 after a delay...\n",
            "A\n",
            "D\n",
            "B\n",
            "B\n",
            "D\n",
            "B\n",
            "B\n",
            "A\n",
            "B\n",
            "C\n",
            "B\n",
            "D\n",
            "C\n",
            "A\n",
            "D\n",
            "C\n",
            "B\n",
            "A\n"
          ]
        },
        {
          "output_type": "stream",
          "name": "stderr",
          "text": [
            "WARNING:tornado.access:429 POST /v1beta/models/gemini-1.0-pro:generateContent?%24alt=json%3Benum-encoding%3Dint (127.0.0.1) 534.71ms\n"
          ]
        },
        {
          "output_type": "stream",
          "name": "stdout",
          "text": [
            "Too many requests. Retrying prompt 35 after a delay...\n",
            "C\n",
            "B\n",
            "A\n",
            "C\n",
            "A\n",
            "A\n",
            "A\n",
            "B\n",
            "B\n",
            "C\n",
            "A\n",
            "B\n",
            "A\n",
            "C\n",
            "A\n",
            "C\n",
            "B\n"
          ]
        },
        {
          "output_type": "stream",
          "name": "stderr",
          "text": [
            "WARNING:tornado.access:429 POST /v1beta/models/gemini-1.0-pro:generateContent?%24alt=json%3Benum-encoding%3Dint (127.0.0.1) 559.63ms\n"
          ]
        },
        {
          "output_type": "stream",
          "name": "stdout",
          "text": [
            "Too many requests. Retrying prompt 52 after a delay...\n",
            "C\n",
            "B\n",
            "A\n",
            "A\n",
            "ValueError: Invalid operation: The `response.text` quick accessor requires the response to contain a valid `Part`, but none were returned. Please check the `candidate.safety_ratings` to determine if the response was blocked.. Skipping prompt number 56.\n",
            "B\n",
            "A\n",
            "A\n",
            "D\n",
            "B\n",
            "B\n",
            "C\n",
            "A\n",
            "B\n",
            "A\n",
            "C\n",
            "D\n",
            "A\n"
          ]
        },
        {
          "output_type": "stream",
          "name": "stderr",
          "text": [
            "WARNING:tornado.access:429 POST /v1beta/models/gemini-1.0-pro:generateContent?%24alt=json%3Benum-encoding%3Dint (127.0.0.1) 611.86ms\n"
          ]
        },
        {
          "output_type": "stream",
          "name": "stdout",
          "text": [
            "Too many requests. Retrying prompt 70 after a delay...\n",
            "A\n",
            "A\n",
            "B\n",
            "C\n",
            "B\n",
            "C\n",
            "C\n",
            "B\n",
            "A\n",
            "B\n",
            "C\n",
            "B\n",
            "A\n",
            "B\n",
            "A\n",
            "C\n",
            "C\n",
            "B\n"
          ]
        },
        {
          "output_type": "stream",
          "name": "stderr",
          "text": [
            "WARNING:tornado.access:429 POST /v1beta/models/gemini-1.0-pro:generateContent?%24alt=json%3Benum-encoding%3Dint (127.0.0.1) 712.61ms\n"
          ]
        },
        {
          "output_type": "stream",
          "name": "stdout",
          "text": [
            "Too many requests. Retrying prompt 88 after a delay...\n",
            "B\n",
            "ValueError: Invalid operation: The `response.text` quick accessor requires the response to contain a valid `Part`, but none were returned. Please check the `candidate.safety_ratings` to determine if the response was blocked.. Skipping prompt number 89.\n",
            "C\n",
            "A\n",
            "A\n",
            "A\n",
            "A\n",
            "A\n",
            "A\n",
            "D\n",
            "A\n",
            "A\n",
            "B\n",
            "A\n",
            "A\n",
            "C\n",
            "A\n",
            "A\n"
          ]
        },
        {
          "output_type": "stream",
          "name": "stderr",
          "text": [
            "WARNING:tornado.access:429 POST /v1beta/models/gemini-1.0-pro:generateContent?%24alt=json%3Benum-encoding%3Dint (127.0.0.1) 664.85ms\n"
          ]
        },
        {
          "output_type": "stream",
          "name": "stdout",
          "text": [
            "Too many requests. Retrying prompt 106 after a delay...\n",
            "A\n",
            "A\n",
            "A\n",
            "A\n",
            "A\n",
            "A\n",
            "C\n",
            "B\n",
            "B\n",
            "A\n",
            "A\n",
            "A\n",
            "A\n",
            "C\n",
            "C\n",
            "B\n",
            "B\n",
            "B\n"
          ]
        },
        {
          "output_type": "stream",
          "name": "stderr",
          "text": [
            "WARNING:tornado.access:429 POST /v1beta/models/gemini-1.0-pro:generateContent?%24alt=json%3Benum-encoding%3Dint (127.0.0.1) 866.33ms\n"
          ]
        },
        {
          "output_type": "stream",
          "name": "stdout",
          "text": [
            "Too many requests. Retrying prompt 124 after a delay...\n",
            "A\n",
            "A\n",
            "B\n",
            "B\n",
            "D\n",
            "C\n",
            "B\n",
            "D\n",
            "C\n",
            "C\n",
            "A\n",
            "C\n",
            "A\n",
            "C\n",
            "A\n",
            "C\n"
          ]
        },
        {
          "output_type": "stream",
          "name": "stderr",
          "text": [
            "WARNING:tornado.access:429 POST /v1beta/models/gemini-1.0-pro:generateContent?%24alt=json%3Benum-encoding%3Dint (127.0.0.1) 713.76ms\n"
          ]
        },
        {
          "output_type": "stream",
          "name": "stdout",
          "text": [
            "Too many requests. Retrying prompt 140 after a delay...\n",
            "C\n",
            "B\n",
            "C\n",
            "D\n",
            "B\n",
            "C\n",
            "C\n",
            "A\n",
            "D\n",
            "D\n",
            "B\n",
            "A\n",
            "C\n",
            "A\n",
            "C\n",
            "C\n",
            "C\n",
            "B\n"
          ]
        },
        {
          "output_type": "stream",
          "name": "stderr",
          "text": [
            "WARNING:tornado.access:429 POST /v1beta/models/gemini-1.0-pro:generateContent?%24alt=json%3Benum-encoding%3Dint (127.0.0.1) 710.40ms\n"
          ]
        },
        {
          "output_type": "stream",
          "name": "stdout",
          "text": [
            "Too many requests. Retrying prompt 158 after a delay...\n",
            "A\n",
            "A\n",
            "A\n",
            "ValueError: Invalid operation: The `response.text` quick accessor requires the response to contain a valid `Part`, but none were returned. Please check the `candidate.safety_ratings` to determine if the response was blocked.. Skipping prompt number 161.\n",
            "ValueError: Invalid operation: The `response.text` quick accessor requires the response to contain a valid `Part`, but none were returned. Please check the `candidate.safety_ratings` to determine if the response was blocked.. Skipping prompt number 162.\n",
            "A\n",
            "B\n",
            "D\n",
            "A\n",
            "A\n",
            "A\n",
            "B\n",
            "A\n",
            "B\n",
            "A\n",
            "B\n",
            "D\n",
            "B\n"
          ]
        },
        {
          "output_type": "stream",
          "name": "stderr",
          "text": [
            "WARNING:tornado.access:429 POST /v1beta/models/gemini-1.0-pro:generateContent?%24alt=json%3Benum-encoding%3Dint (127.0.0.1) 712.96ms\n"
          ]
        },
        {
          "output_type": "stream",
          "name": "stdout",
          "text": [
            "Too many requests. Retrying prompt 176 after a delay...\n",
            "A\n",
            "C\n",
            "A\n",
            "C\n",
            "A\n",
            "B\n",
            "B\n",
            "C\n",
            "D\n",
            "A\n",
            "B\n",
            "B\n",
            "A\n",
            "A\n",
            "B\n",
            "C\n",
            "B\n",
            "A\n"
          ]
        },
        {
          "output_type": "stream",
          "name": "stderr",
          "text": [
            "WARNING:tornado.access:429 POST /v1beta/models/gemini-1.0-pro:generateContent?%24alt=json%3Benum-encoding%3Dint (127.0.0.1) 660.79ms\n"
          ]
        },
        {
          "output_type": "stream",
          "name": "stdout",
          "text": [
            "Too many requests. Retrying prompt 194 after a delay...\n",
            "D\n",
            "A\n",
            "A\n",
            "B\n",
            "B\n",
            "D\n",
            "C\n",
            "B\n",
            "B\n",
            "B\n",
            "B\n",
            "D\n",
            "C\n",
            "A\n",
            "B\n",
            "B\n",
            "A\n",
            "C\n"
          ]
        },
        {
          "output_type": "stream",
          "name": "stderr",
          "text": [
            "WARNING:tornado.access:429 POST /v1beta/models/gemini-1.0-pro:generateContent?%24alt=json%3Benum-encoding%3Dint (127.0.0.1) 615.61ms\n"
          ]
        },
        {
          "output_type": "stream",
          "name": "stdout",
          "text": [
            "Too many requests. Retrying prompt 212 after a delay...\n",
            "A\n",
            "A\n",
            "A\n",
            "D\n",
            "A\n",
            "A\n",
            "C\n",
            "A\n",
            "A\n",
            "A\n",
            "B\n",
            "C\n",
            "A\n",
            "B\n",
            "A\n",
            "A\n",
            "A\n",
            "A\n",
            "A\n"
          ]
        },
        {
          "output_type": "stream",
          "name": "stderr",
          "text": [
            "WARNING:tornado.access:429 POST /v1beta/models/gemini-1.0-pro:generateContent?%24alt=json%3Benum-encoding%3Dint (127.0.0.1) 636.07ms\n"
          ]
        },
        {
          "output_type": "stream",
          "name": "stdout",
          "text": [
            "Too many requests. Retrying prompt 231 after a delay...\n",
            "B\n",
            "B\n",
            "B\n",
            "B\n",
            "B\n",
            "B\n",
            "C\n",
            "A\n",
            "C\n",
            "C\n",
            "C\n",
            "B\n",
            "D\n",
            "B\n",
            "C\n",
            "B\n"
          ]
        },
        {
          "output_type": "stream",
          "name": "stderr",
          "text": [
            "WARNING:tornado.access:429 POST /v1beta/models/gemini-1.0-pro:generateContent?%24alt=json%3Benum-encoding%3Dint (127.0.0.1) 533.60ms\n"
          ]
        },
        {
          "output_type": "stream",
          "name": "stdout",
          "text": [
            "Too many requests. Retrying prompt 247 after a delay...\n",
            "A\n",
            "A\n",
            "A\n",
            "C\n",
            "Total correct responses by Gemini: 143/250\n",
            "Final accuracy: 57.20%\n"
          ]
        }
      ]
    },
    {
      "cell_type": "markdown",
      "source": [
        "Total correct responses by Gemini: 143/250\n",
        "Final accuracy: 57.20%"
      ],
      "metadata": {
        "id": "aDsA6D8zW0yn"
      }
    },
    {
      "cell_type": "code",
      "source": [
        "df, prompts = read_prompts(\"/content/mcq3.tsv\")\n",
        "execute_prompts(df, prompts)"
      ],
      "metadata": {
        "colab": {
          "base_uri": "https://localhost:8080/",
          "height": 1000
        },
        "id": "WCB8Y6V9aWnY",
        "outputId": "a16ed72b-0f31-4c03-c01b-d6aa82167536"
      },
      "execution_count": null,
      "outputs": [
        {
          "output_type": "stream",
          "name": "stdout",
          "text": [
            "A\n",
            "B\n",
            "C\n",
            "D\n",
            "D\n",
            "D\n",
            "B\n",
            "A\n",
            "C\n",
            "B\n",
            "D\n",
            "C\n",
            "D\n",
            "A\n",
            "B\n",
            "D\n"
          ]
        },
        {
          "output_type": "stream",
          "name": "stderr",
          "text": [
            "WARNING:tornado.access:429 POST /v1beta/models/gemini-1.0-pro:generateContent?%24alt=json%3Benum-encoding%3Dint (127.0.0.1) 507.95ms\n"
          ]
        },
        {
          "output_type": "stream",
          "name": "stdout",
          "text": [
            "Too many requests. Retrying prompt 17 after a delay...\n",
            "B\n",
            "B\n",
            "C\n",
            "D\n",
            "C\n",
            "B\n",
            "C\n",
            "C\n",
            "D\n",
            "C\n",
            "C\n",
            "B\n",
            "C\n",
            "D\n",
            "C\n",
            "A\n",
            "C\n",
            "A\n",
            "C\n"
          ]
        },
        {
          "output_type": "stream",
          "name": "stderr",
          "text": [
            "WARNING:tornado.access:429 POST /v1beta/models/gemini-1.0-pro:generateContent?%24alt=json%3Benum-encoding%3Dint (127.0.0.1) 558.86ms\n"
          ]
        },
        {
          "output_type": "stream",
          "name": "stdout",
          "text": [
            "Too many requests. Retrying prompt 36 after a delay...\n",
            "B\n",
            "D\n",
            "C\n",
            "B\n",
            "C\n",
            "B\n",
            "C\n",
            "C\n",
            "D\n",
            "C\n",
            "C\n",
            "C\n",
            "D\n",
            "C\n",
            "C\n",
            "B\n",
            "C\n",
            "A\n",
            "D\n",
            "B\n",
            "C\n",
            "C\n",
            "C\n",
            "D\n",
            "C\n",
            "B\n",
            "C\n",
            "C\n",
            "B\n",
            "A\n",
            "C\n",
            "A\n",
            "C\n"
          ]
        },
        {
          "output_type": "stream",
          "name": "stderr",
          "text": [
            "WARNING:tornado.access:429 POST /v1beta/models/gemini-1.0-pro:generateContent?%24alt=json%3Benum-encoding%3Dint (127.0.0.1) 532.95ms\n"
          ]
        },
        {
          "output_type": "stream",
          "name": "stdout",
          "text": [
            "Too many requests. Retrying prompt 69 after a delay...\n",
            "C\n",
            "A\n",
            "B\n",
            "B\n",
            "B\n",
            "B\n",
            "B\n",
            "B\n",
            "B\n",
            "C\n",
            "A\n",
            "C\n",
            "D\n",
            "A\n",
            "C\n",
            "C\n"
          ]
        },
        {
          "output_type": "stream",
          "name": "stderr",
          "text": [
            "WARNING:tornado.access:429 POST /v1beta/models/gemini-1.0-pro:generateContent?%24alt=json%3Benum-encoding%3Dint (127.0.0.1) 532.84ms\n"
          ]
        },
        {
          "output_type": "stream",
          "name": "stdout",
          "text": [
            "Too many requests. Retrying prompt 85 after a delay...\n",
            "C\n",
            "C\n",
            "C\n",
            "B\n",
            "B\n",
            "B\n",
            "C\n",
            "A\n",
            "A\n",
            "B\n",
            "D\n",
            "D\n",
            "B\n",
            "C\n",
            "D\n",
            "B\n",
            "C\n",
            "D\n",
            "B\n"
          ]
        },
        {
          "output_type": "stream",
          "name": "stderr",
          "text": [
            "WARNING:tornado.access:429 POST /v1beta/models/gemini-1.0-pro:generateContent?%24alt=json%3Benum-encoding%3Dint (127.0.0.1) 811.92ms\n"
          ]
        },
        {
          "output_type": "stream",
          "name": "stdout",
          "text": [
            "Too many requests. Retrying prompt 104 after a delay...\n",
            "A\n",
            "B\n",
            "B\n",
            "B\n",
            "B\n",
            "A\n",
            "C\n",
            "B\n",
            "A\n",
            "C\n",
            "B\n",
            "C\n",
            "B\n",
            "A\n",
            "C\n",
            "C\n",
            "D\n",
            "D\n"
          ]
        },
        {
          "output_type": "stream",
          "name": "stderr",
          "text": [
            "WARNING:tornado.access:429 POST /v1beta/models/gemini-1.0-pro:generateContent?%24alt=json%3Benum-encoding%3Dint (127.0.0.1) 659.88ms\n"
          ]
        },
        {
          "output_type": "stream",
          "name": "stdout",
          "text": [
            "Too many requests. Retrying prompt 122 after a delay...\n",
            "B\n",
            "C\n",
            "B\n",
            "C\n",
            "A\n",
            "A\n",
            "C\n",
            "A\n",
            "C\n",
            "ValueError: Invalid operation: The `response.text` quick accessor requires the response to contain a valid `Part`, but none were returned. Please check the `candidate.safety_ratings` to determine if the response was blocked.. Skipping prompt number 131.\n",
            "D\n",
            "A\n",
            "B\n",
            "A\n",
            "D\n",
            "C\n",
            "B\n",
            "D\n",
            "A\n"
          ]
        },
        {
          "output_type": "stream",
          "name": "stderr",
          "text": [
            "WARNING:tornado.access:429 POST /v1beta/models/gemini-1.0-pro:generateContent?%24alt=json%3Benum-encoding%3Dint (127.0.0.1) 583.60ms\n"
          ]
        },
        {
          "output_type": "stream",
          "name": "stdout",
          "text": [
            "Too many requests. Retrying prompt 141 after a delay...\n",
            "B\n",
            "B\n",
            "D\n",
            "C\n",
            "A\n",
            "A\n",
            "C\n",
            "D\n",
            "C\n",
            "D\n",
            "B\n",
            "D\n",
            "A\n",
            "A\n",
            "D\n",
            "B\n",
            "B\n"
          ]
        },
        {
          "output_type": "stream",
          "name": "stderr",
          "text": [
            "WARNING:tornado.access:429 POST /v1beta/models/gemini-1.0-pro:generateContent?%24alt=json%3Benum-encoding%3Dint (127.0.0.1) 583.72ms\n"
          ]
        },
        {
          "output_type": "stream",
          "name": "stdout",
          "text": [
            "Too many requests. Retrying prompt 158 after a delay...\n",
            "C\n",
            "B\n",
            "B\n",
            "A\n",
            "C\n",
            "B\n",
            "A\n",
            "C\n",
            "D\n",
            "C\n",
            "C\n",
            "C\n",
            "A\n",
            "C\n",
            "A\n",
            "B\n",
            "A\n",
            "C\n"
          ]
        },
        {
          "output_type": "stream",
          "name": "stderr",
          "text": [
            "WARNING:tornado.access:429 POST /v1beta/models/gemini-1.0-pro:generateContent?%24alt=json%3Benum-encoding%3Dint (127.0.0.1) 583.47ms\n"
          ]
        },
        {
          "output_type": "stream",
          "name": "stdout",
          "text": [
            "Too many requests. Retrying prompt 176 after a delay...\n",
            "C\n",
            "B\n",
            "A\n",
            "A\n",
            "C\n",
            "D\n",
            "C\n",
            "A\n",
            "D\n",
            "B\n",
            "D\n",
            "A\n",
            "B\n",
            "C\n",
            "A\n",
            "A\n",
            "A\n",
            "B\n"
          ]
        },
        {
          "output_type": "stream",
          "name": "stderr",
          "text": [
            "WARNING:tornado.access:429 POST /v1beta/models/gemini-1.0-pro:generateContent?%24alt=json%3Benum-encoding%3Dint (127.0.0.1) 483.92ms\n"
          ]
        },
        {
          "output_type": "stream",
          "name": "stdout",
          "text": [
            "Too many requests. Retrying prompt 194 after a delay...\n",
            "B\n",
            "C\n",
            "A\n",
            "A\n",
            "D\n",
            "B\n",
            "B\n",
            "Total correct responses by Gemini: 135/200\n",
            "Final accuracy: 67.50%\n"
          ]
        }
      ]
    },
    {
      "cell_type": "markdown",
      "source": [
        "Total correct responses by Gemini: 135/200\n",
        "Final accuracy: 67.50%"
      ],
      "metadata": {
        "id": "CQZ-CYNPh1zh"
      }
    },
    {
      "cell_type": "code",
      "source": [
        "df, prompts = read_prompts(\"/content/mcq3.tsv\")\n",
        "execute_prompts(df, prompts)"
      ],
      "metadata": {
        "id": "5OyGUxz1h07L",
        "colab": {
          "base_uri": "https://localhost:8080/",
          "height": 1000
        },
        "outputId": "d8f0a82f-50a9-46d1-c6b0-b9bdc4354fcf"
      },
      "execution_count": null,
      "outputs": [
        {
          "output_type": "stream",
          "name": "stdout",
          "text": [
            "C\n",
            "B\n",
            "C\n",
            "B\n",
            "C\n",
            "A\n",
            "A\n",
            "A\n",
            "A\n",
            "A\n",
            "C\n",
            "D\n",
            "D\n",
            "A\n",
            "A\n",
            "A\n",
            "A\n"
          ]
        },
        {
          "output_type": "stream",
          "name": "stderr",
          "text": [
            "WARNING:tornado.access:429 POST /v1beta/models/gemini-1.0-pro:generateContent?%24alt=json%3Benum-encoding%3Dint (127.0.0.1) 507.30ms\n"
          ]
        },
        {
          "output_type": "stream",
          "name": "stdout",
          "text": [
            "Too many requests. Retrying prompt 18 after a delay...\n",
            "D\n",
            "A\n",
            "A\n",
            "ValueError: Invalid operation: The `response.text` quick accessor requires the response to contain a valid `Part`, but none were returned. Please check the `candidate.safety_ratings` to determine if the response was blocked.. Skipping prompt number 21.\n",
            "B\n",
            "B\n",
            "C\n",
            "D\n",
            "B\n",
            "C\n",
            "C\n",
            "B\n",
            "C\n",
            "D\n",
            "B\n",
            "A\n",
            "A\n"
          ]
        },
        {
          "output_type": "stream",
          "name": "stderr",
          "text": [
            "WARNING:tornado.access:429 POST /v1beta/models/gemini-1.0-pro:generateContent?%24alt=json%3Benum-encoding%3Dint (127.0.0.1) 482.40ms\n"
          ]
        },
        {
          "output_type": "stream",
          "name": "stdout",
          "text": [
            "Too many requests. Retrying prompt 35 after a delay...\n",
            "B\n",
            "A\n",
            "B\n",
            "C\n",
            "C\n",
            "D\n",
            "A\n",
            "A\n",
            "A\n",
            "D\n",
            "A\n",
            "A\n",
            "B\n",
            "B\n",
            "A\n",
            "ValueError: Invalid operation: The `response.text` quick accessor requires the response to contain a valid `Part`, but none were returned. Please check the `candidate.safety_ratings` to determine if the response was blocked.. Skipping prompt number 50.\n",
            "C\n",
            "C\n",
            "C\n"
          ]
        },
        {
          "output_type": "stream",
          "name": "stderr",
          "text": [
            "WARNING:tornado.access:429 POST /v1beta/models/gemini-1.0-pro:generateContent?%24alt=json%3Benum-encoding%3Dint (127.0.0.1) 482.32ms\n"
          ]
        },
        {
          "output_type": "stream",
          "name": "stdout",
          "text": [
            "Too many requests. Retrying prompt 54 after a delay...\n",
            "A\n",
            "A\n",
            "A\n",
            "A\n",
            "A\n",
            "D\n",
            "A\n",
            "B\n",
            "C\n",
            "B\n",
            "C\n",
            "C\n",
            "C\n",
            "C\n",
            "A\n",
            "A\n",
            "A\n",
            "B\n",
            "A\n",
            "A\n"
          ]
        },
        {
          "output_type": "stream",
          "name": "stderr",
          "text": [
            "WARNING:tornado.access:429 POST /v1beta/models/gemini-1.0-pro:generateContent?%24alt=json%3Benum-encoding%3Dint (127.0.0.1) 482.27ms\n"
          ]
        },
        {
          "output_type": "stream",
          "name": "stdout",
          "text": [
            "Too many requests. Retrying prompt 74 after a delay...\n",
            "B\n",
            "B\n",
            "A\n",
            "A\n",
            "A\n",
            "C\n",
            "A\n",
            "B\n",
            "A\n",
            "D\n",
            "A\n",
            "B\n",
            "B\n",
            "D\n",
            "C\n",
            "B\n",
            "C\n",
            "B\n",
            "C\n"
          ]
        },
        {
          "output_type": "stream",
          "name": "stderr",
          "text": [
            "WARNING:tornado.access:429 POST /v1beta/models/gemini-1.0-pro:generateContent?%24alt=json%3Benum-encoding%3Dint (127.0.0.1) 507.78ms\n"
          ]
        },
        {
          "output_type": "stream",
          "name": "stdout",
          "text": [
            "Too many requests. Retrying prompt 93 after a delay...\n",
            "B\n",
            "A\n",
            "C\n",
            "B\n",
            "A\n",
            "C\n",
            "B\n",
            "C\n",
            "C\n",
            "A\n",
            "C\n",
            "A\n",
            "A\n",
            "A\n",
            "C\n",
            "A\n",
            "C\n",
            "C\n"
          ]
        },
        {
          "output_type": "stream",
          "name": "stderr",
          "text": [
            "WARNING:tornado.access:429 POST /v1beta/models/gemini-1.0-pro:generateContent?%24alt=json%3Benum-encoding%3Dint (127.0.0.1) 482.74ms\n"
          ]
        },
        {
          "output_type": "stream",
          "name": "stdout",
          "text": [
            "Too many requests. Retrying prompt 111 after a delay...\n",
            "B\n",
            "A\n",
            "A\n",
            "D\n",
            "A\n",
            "B\n",
            "B\n",
            "B\n",
            "C\n",
            "C\n",
            "C\n",
            "C\n",
            "C\n",
            "A\n",
            "C\n",
            "A\n",
            "B\n",
            "C\n"
          ]
        },
        {
          "output_type": "stream",
          "name": "stderr",
          "text": [
            "WARNING:tornado.access:429 POST /v1beta/models/gemini-1.0-pro:generateContent?%24alt=json%3Benum-encoding%3Dint (127.0.0.1) 481.82ms\n"
          ]
        },
        {
          "output_type": "stream",
          "name": "stdout",
          "text": [
            "Too many requests. Retrying prompt 129 after a delay...\n",
            "D\n",
            "A\n",
            "C\n",
            "B\n",
            "C\n",
            "C\n",
            "C\n",
            "C\n",
            "A\n",
            "A\n",
            "B\n",
            "C\n",
            "A\n",
            "C\n",
            "A\n",
            "C\n",
            "A\n",
            "D\n"
          ]
        },
        {
          "output_type": "stream",
          "name": "stderr",
          "text": [
            "WARNING:tornado.access:429 POST /v1beta/models/gemini-1.0-pro:generateContent?%24alt=json%3Benum-encoding%3Dint (127.0.0.1) 508.14ms\n"
          ]
        },
        {
          "output_type": "stream",
          "name": "stdout",
          "text": [
            "Too many requests. Retrying prompt 147 after a delay...\n",
            "C\n",
            "A\n",
            "B\n",
            "C\n",
            "A\n",
            "B\n",
            "A\n",
            "C\n",
            "A\n",
            "A\n",
            "C\n",
            "D\n",
            "B\n",
            "C\n",
            "C\n",
            "B\n",
            "C\n",
            "A\n",
            "A\n",
            "C\n"
          ]
        },
        {
          "output_type": "stream",
          "name": "stderr",
          "text": [
            "WARNING:tornado.access:429 POST /v1beta/models/gemini-1.0-pro:generateContent?%24alt=json%3Benum-encoding%3Dint (127.0.0.1) 711.93ms\n"
          ]
        },
        {
          "output_type": "stream",
          "name": "stdout",
          "text": [
            "Too many requests. Retrying prompt 167 after a delay...\n",
            "C\n",
            "C\n",
            "C\n",
            "A\n",
            "B\n",
            "A\n",
            "A\n",
            "A\n",
            "A\n",
            "B\n",
            "B\n",
            "B\n",
            "D\n",
            "C\n",
            "B\n",
            "A\n",
            "B\n"
          ]
        },
        {
          "output_type": "stream",
          "name": "stderr",
          "text": [
            "WARNING:tornado.access:429 POST /v1beta/models/gemini-1.0-pro:generateContent?%24alt=json%3Benum-encoding%3Dint (127.0.0.1) 483.26ms\n"
          ]
        },
        {
          "output_type": "stream",
          "name": "stdout",
          "text": [
            "Too many requests. Retrying prompt 184 after a delay...\n",
            "C\n",
            "A\n",
            "B\n",
            "B\n",
            "B\n",
            "A\n",
            "D\n",
            "C\n",
            "C\n",
            "A\n",
            "C\n",
            "B\n",
            "A\n",
            "C\n",
            "B\n",
            "A\n",
            "D\n"
          ]
        },
        {
          "output_type": "stream",
          "name": "stderr",
          "text": [
            "WARNING:tornado.access:429 POST /v1beta/models/gemini-1.0-pro:generateContent?%24alt=json%3Benum-encoding%3Dint (127.0.0.1) 482.43ms\n"
          ]
        },
        {
          "output_type": "stream",
          "name": "stdout",
          "text": [
            "Too many requests. Retrying prompt 201 after a delay...\n",
            "B\n",
            "A\n",
            "A\n",
            "C\n",
            "A\n",
            "A\n",
            "B\n",
            "A\n",
            "C\n",
            "B\n",
            "C\n",
            "B\n",
            "C\n",
            "B\n",
            "A\n",
            "B\n",
            "C\n",
            "A\n",
            "A\n"
          ]
        },
        {
          "output_type": "stream",
          "name": "stderr",
          "text": [
            "WARNING:tornado.access:429 POST /v1beta/models/gemini-1.0-pro:generateContent?%24alt=json%3Benum-encoding%3Dint (127.0.0.1) 532.83ms\n"
          ]
        },
        {
          "output_type": "stream",
          "name": "stdout",
          "text": [
            "Too many requests. Retrying prompt 220 after a delay...\n",
            "B\n",
            "A\n",
            "B\n",
            "B\n",
            "D\n",
            "A\n",
            "A\n",
            "B\n",
            "A\n",
            "B\n",
            "A\n",
            "B\n",
            "A\n",
            "A\n",
            "B\n",
            "C\n",
            "C\n",
            "D\n",
            "C\n"
          ]
        },
        {
          "output_type": "stream",
          "name": "stderr",
          "text": [
            "WARNING:tornado.access:429 POST /v1beta/models/gemini-1.0-pro:generateContent?%24alt=json%3Benum-encoding%3Dint (127.0.0.1) 457.19ms\n"
          ]
        },
        {
          "output_type": "stream",
          "name": "stdout",
          "text": [
            "Too many requests. Retrying prompt 239 after a delay...\n",
            "C\n",
            "C\n",
            "C\n",
            "B\n",
            "ValueError: Invalid operation: The `response.text` quick accessor requires the response to contain a valid `Part`, but none were returned. Please check the `candidate.safety_ratings` to determine if the response was blocked.. Skipping prompt number 243.\n",
            "A\n",
            "C\n",
            "D\n",
            "A\n",
            "C\n",
            "C\n",
            "B\n",
            "A\n",
            "C\n",
            "B\n",
            "B\n",
            "A\n",
            "A\n",
            "D\n",
            "D\n"
          ]
        },
        {
          "output_type": "stream",
          "name": "stderr",
          "text": [
            "WARNING:tornado.access:429 POST /v1beta/models/gemini-1.0-pro:generateContent?%24alt=json%3Benum-encoding%3Dint (127.0.0.1) 482.43ms\n"
          ]
        },
        {
          "output_type": "stream",
          "name": "stdout",
          "text": [
            "Too many requests. Retrying prompt 259 after a delay...\n",
            "A\n",
            "C\n",
            "D\n",
            "A\n",
            "B\n",
            "B\n",
            "A\n",
            "C\n",
            "B\n",
            "B\n",
            "A\n",
            "B\n",
            "B\n",
            "B\n",
            "B\n",
            "B\n",
            "A\n",
            "A\n"
          ]
        },
        {
          "output_type": "stream",
          "name": "stderr",
          "text": [
            "WARNING:tornado.access:429 POST /v1beta/models/gemini-1.0-pro:generateContent?%24alt=json%3Benum-encoding%3Dint (127.0.0.1) 457.14ms\n"
          ]
        },
        {
          "output_type": "stream",
          "name": "stdout",
          "text": [
            "Too many requests. Retrying prompt 277 after a delay...\n",
            "ValueError: Invalid operation: The `response.text` quick accessor requires the response to contain a valid `Part`, but none were returned. Please check the `candidate.safety_ratings` to determine if the response was blocked.. Skipping prompt number 277.\n",
            "D\n",
            "B\n",
            "C\n",
            "C\n"
          ]
        },
        {
          "output_type": "stream",
          "name": "stderr",
          "text": [
            "ERROR:tornado.access:500 POST /v1beta/models/gemini-1.0-pro:generateContent?%24alt=json%3Benum-encoding%3Dint (127.0.0.1) 761.01ms\n"
          ]
        },
        {
          "output_type": "stream",
          "name": "stdout",
          "text": [
            "InternalServerError: 500 POST https://generativelanguage.googleapis.com/v1beta/models/gemini-1.0-pro:generateContent?%24alt=json%3Benum-encoding%3Dint: An internal error has occurred. Please retry or report in https://developers.generativeai.google/guide/troubleshooting. Skipping prompt number 282.\n",
            "B\n",
            "C\n",
            "C\n",
            "A\n",
            "A\n",
            "A\n",
            "B\n",
            "A\n",
            "C\n",
            "D\n",
            "C\n",
            "C\n",
            "D\n"
          ]
        },
        {
          "output_type": "stream",
          "name": "stderr",
          "text": [
            "WARNING:tornado.access:429 POST /v1beta/models/gemini-1.0-pro:generateContent?%24alt=json%3Benum-encoding%3Dint (127.0.0.1) 533.52ms\n"
          ]
        },
        {
          "output_type": "stream",
          "name": "stdout",
          "text": [
            "Too many requests. Retrying prompt 296 after a delay...\n",
            "A\n",
            "A\n",
            "D\n",
            "A\n",
            "B\n",
            "B\n",
            "D\n",
            "B\n",
            "A\n",
            "A\n",
            "A\n",
            "A\n",
            "A\n",
            "A\n",
            "B\n",
            "C\n",
            "A\n",
            "A\n",
            "B\n"
          ]
        },
        {
          "output_type": "stream",
          "name": "stderr",
          "text": [
            "WARNING:tornado.access:429 POST /v1beta/models/gemini-1.0-pro:generateContent?%24alt=json%3Benum-encoding%3Dint (127.0.0.1) 456.73ms\n"
          ]
        },
        {
          "output_type": "stream",
          "name": "stdout",
          "text": [
            "Too many requests. Retrying prompt 315 after a delay...\n",
            "B\n",
            "B\n",
            "A\n",
            "C\n",
            "B\n",
            "B\n",
            "ValueError: Invalid operation: The `response.text` quick accessor requires the response to contain a valid `Part`, but none were returned. Please check the `candidate.safety_ratings` to determine if the response was blocked.. Skipping prompt number 321.\n",
            "C\n",
            "A\n",
            "A\n",
            "A\n",
            "C\n",
            "C\n",
            "A\n",
            "A\n",
            "B\n",
            "B\n",
            "B\n",
            "C\n"
          ]
        },
        {
          "output_type": "stream",
          "name": "stderr",
          "text": [
            "WARNING:tornado.access:429 POST /v1beta/models/gemini-1.0-pro:generateContent?%24alt=json%3Benum-encoding%3Dint (127.0.0.1) 482.75ms\n"
          ]
        },
        {
          "output_type": "stream",
          "name": "stdout",
          "text": [
            "Too many requests. Retrying prompt 334 after a delay...\n",
            "A\n",
            "D\n",
            "A\n",
            "A\n",
            "B\n",
            "A\n",
            "A\n",
            "A\n",
            "C\n",
            "C\n",
            "A\n",
            "C\n",
            "A\n",
            "D\n",
            "B\n",
            "B\n",
            "B\n",
            "Total correct responses by Gemini: 200/350\n",
            "Final accuracy: 57.14%\n"
          ]
        }
      ]
    },
    {
      "cell_type": "markdown",
      "source": [
        "Total correct responses by Gemini: 200/350\n",
        "Final accuracy: 57.14%"
      ],
      "metadata": {
        "id": "OGagaq4gsMcx"
      }
    },
    {
      "cell_type": "code",
      "source": [
        "df, prompts = read_prompts(\"/content/mcq3.tsv\")\n",
        "execute_prompts(df, prompts)"
      ],
      "metadata": {
        "colab": {
          "base_uri": "https://localhost:8080/",
          "height": 1000
        },
        "id": "Tens1KEWtdnw",
        "outputId": "dd13b2d2-fae5-4b83-afc4-934553801794"
      },
      "execution_count": null,
      "outputs": [
        {
          "output_type": "stream",
          "name": "stdout",
          "text": [
            "A\n",
            "A\n",
            "B\n",
            "C\n",
            "C\n",
            "C\n",
            "B\n",
            "B\n",
            "C\n",
            "B\n",
            "C\n",
            "A\n",
            "B\n",
            "A\n",
            "C\n",
            "A\n",
            "A\n",
            "B\n",
            "B\n",
            "B\n",
            "B\n",
            "B\n",
            "A\n",
            "D\n"
          ]
        },
        {
          "output_type": "stream",
          "name": "stderr",
          "text": [
            "WARNING:tornado.access:429 POST /v1beta/models/gemini-1.0-pro:generateContent?%24alt=json%3Benum-encoding%3Dint (127.0.0.1) 482.37ms\n"
          ]
        },
        {
          "output_type": "stream",
          "name": "stdout",
          "text": [
            "Too many requests. Retrying prompt 25 after a delay...\n",
            "C\n",
            "B\n",
            "C\n",
            "B\n",
            "C\n",
            "C\n",
            "D\n",
            "B\n",
            "A\n",
            "C\n",
            "C\n",
            "D\n",
            "D\n",
            "A\n",
            "A\n",
            "D\n",
            "B\n",
            "B\n"
          ]
        },
        {
          "output_type": "stream",
          "name": "stderr",
          "text": [
            "WARNING:tornado.access:429 POST /v1beta/models/gemini-1.0-pro:generateContent?%24alt=json%3Benum-encoding%3Dint (127.0.0.1) 482.77ms\n"
          ]
        },
        {
          "output_type": "stream",
          "name": "stdout",
          "text": [
            "Too many requests. Retrying prompt 43 after a delay...\n",
            "C\n",
            "B\n",
            "B\n",
            "B\n",
            "C\n",
            "A\n",
            "A\n",
            "B\n",
            "C\n",
            "C\n",
            "D\n",
            "B\n",
            "D\n",
            "D\n",
            "A\n",
            "B\n",
            "A\n",
            "B\n"
          ]
        },
        {
          "output_type": "stream",
          "name": "stderr",
          "text": [
            "WARNING:tornado.access:429 POST /v1beta/models/gemini-1.0-pro:generateContent?%24alt=json%3Benum-encoding%3Dint (127.0.0.1) 508.00ms\n"
          ]
        },
        {
          "output_type": "stream",
          "name": "stdout",
          "text": [
            "Too many requests. Retrying prompt 61 after a delay...\n",
            "C\n",
            "A\n",
            "D\n",
            "A\n",
            "C\n",
            "B\n",
            "B\n",
            "B\n",
            "C\n",
            "B\n",
            "C\n",
            "C\n",
            "C\n",
            "A\n",
            "A\n",
            "C\n",
            "D\n",
            "B\n"
          ]
        },
        {
          "output_type": "stream",
          "name": "stderr",
          "text": [
            "WARNING:tornado.access:429 POST /v1beta/models/gemini-1.0-pro:generateContent?%24alt=json%3Benum-encoding%3Dint (127.0.0.1) 482.11ms\n"
          ]
        },
        {
          "output_type": "stream",
          "name": "stdout",
          "text": [
            "Too many requests. Retrying prompt 79 after a delay...\n",
            "B\n",
            "B\n",
            "B\n",
            "B\n",
            "C\n",
            "C\n",
            "C\n",
            "A\n",
            "A\n",
            "D\n",
            "B\n",
            "A\n",
            "A\n",
            "C\n",
            "C\n",
            "B\n",
            "C\n",
            "ValueError: Invalid operation: The `response.text` quick accessor requires the response to contain a valid `Part`, but none were returned. Please check the `candidate.safety_ratings` to determine if the response was blocked.. Skipping prompt number 96.\n",
            "B\n"
          ]
        },
        {
          "output_type": "stream",
          "name": "stderr",
          "text": [
            "WARNING:tornado.access:429 POST /v1beta/models/gemini-1.0-pro:generateContent?%24alt=json%3Benum-encoding%3Dint (127.0.0.1) 482.06ms\n"
          ]
        },
        {
          "output_type": "stream",
          "name": "stdout",
          "text": [
            "Too many requests. Retrying prompt 98 after a delay...\n",
            "B\n",
            "D\n",
            "C\n",
            "A\n",
            "A\n",
            "B\n",
            "C\n",
            "C\n",
            "B\n",
            "C\n",
            "A\n",
            "C\n",
            "A\n",
            "A\n",
            "A\n",
            "A\n",
            "A\n",
            "C\n",
            "C\n"
          ]
        },
        {
          "output_type": "stream",
          "name": "stderr",
          "text": [
            "WARNING:tornado.access:429 POST /v1beta/models/gemini-1.0-pro:generateContent?%24alt=json%3Benum-encoding%3Dint (127.0.0.1) 482.28ms\n"
          ]
        },
        {
          "output_type": "stream",
          "name": "stdout",
          "text": [
            "Too many requests. Retrying prompt 117 after a delay...\n",
            "C\n",
            "C\n",
            "B\n",
            "B\n",
            "A\n",
            "D\n",
            "B\n",
            "B\n",
            "B\n",
            "C\n",
            "B\n",
            "B\n",
            "C\n",
            "D\n",
            "B\n",
            "D\n",
            "C\n",
            "A\n"
          ]
        },
        {
          "output_type": "stream",
          "name": "stderr",
          "text": [
            "WARNING:tornado.access:429 POST /v1beta/models/gemini-1.0-pro:generateContent?%24alt=json%3Benum-encoding%3Dint (127.0.0.1) 912.85ms\n"
          ]
        },
        {
          "output_type": "stream",
          "name": "stdout",
          "text": [
            "Too many requests. Retrying prompt 135 after a delay...\n",
            "A\n",
            "A\n",
            "C\n",
            "A\n",
            "C\n",
            "A\n",
            "A\n",
            "B\n",
            "A\n",
            "B\n",
            "A\n",
            "A\n",
            "B\n",
            "A\n",
            "D\n",
            "C\n"
          ]
        },
        {
          "output_type": "stream",
          "name": "stderr",
          "text": [
            "WARNING:tornado.access:429 POST /v1beta/models/gemini-1.0-pro:generateContent?%24alt=json%3Benum-encoding%3Dint (127.0.0.1) 482.65ms\n"
          ]
        },
        {
          "output_type": "stream",
          "name": "stdout",
          "text": [
            "Too many requests. Retrying prompt 151 after a delay...\n",
            "B\n",
            "B\n",
            "A\n",
            "A\n",
            "C\n",
            "A\n",
            "D\n",
            "D\n",
            "C\n",
            "B\n",
            "C\n",
            "C\n",
            "B\n",
            "B\n",
            "A\n",
            "A\n",
            "D\n",
            "B\n"
          ]
        },
        {
          "output_type": "stream",
          "name": "stderr",
          "text": [
            "WARNING:tornado.access:429 POST /v1beta/models/gemini-1.0-pro:generateContent?%24alt=json%3Benum-encoding%3Dint (127.0.0.1) 507.97ms\n"
          ]
        },
        {
          "output_type": "stream",
          "name": "stdout",
          "text": [
            "Too many requests. Retrying prompt 169 after a delay...\n",
            "B\n",
            "A\n",
            "B\n",
            "D\n",
            "B\n",
            "A\n",
            "C\n",
            "D\n",
            "C\n",
            "B\n",
            "C\n",
            "C\n",
            "B\n",
            "A\n",
            "C\n",
            "B\n"
          ]
        },
        {
          "output_type": "stream",
          "name": "stderr",
          "text": [
            "WARNING:tornado.access:429 POST /v1beta/models/gemini-1.0-pro:generateContent?%24alt=json%3Benum-encoding%3Dint (127.0.0.1) 533.24ms\n"
          ]
        },
        {
          "output_type": "stream",
          "name": "stdout",
          "text": [
            "Too many requests. Retrying prompt 185 after a delay...\n",
            "A\n",
            "A\n",
            "C\n",
            "A\n",
            "A\n",
            "A\n",
            "D\n",
            "C\n",
            "B\n",
            "A\n",
            "A\n",
            "C\n",
            "A\n",
            "A\n",
            "C\n",
            "C\n",
            "A\n",
            "D\n",
            "C\n",
            "A\n",
            "C\n",
            "C\n",
            "B\n",
            "C\n",
            "A\n",
            "A\n",
            "B\n",
            "B\n",
            "A\n",
            "B\n",
            "B\n",
            "ValueError: Invalid operation: The `response.text` quick accessor requires the response to contain a valid `Part`, but none were returned. Please check the `candidate.safety_ratings` to determine if the response was blocked.. Skipping prompt number 216.\n",
            "A\n",
            "A\n",
            "B\n",
            "A\n",
            "C\n",
            "C\n",
            "A\n",
            "B\n",
            "C\n",
            "C\n",
            "A\n",
            "B\n",
            "A\n",
            "D\n",
            "B\n",
            "C\n",
            "B\n"
          ]
        },
        {
          "output_type": "stream",
          "name": "stderr",
          "text": [
            "WARNING:tornado.access:429 POST /v1beta/models/gemini-1.0-pro:generateContent?%24alt=json%3Benum-encoding%3Dint (127.0.0.1) 735.30ms\n"
          ]
        },
        {
          "output_type": "stream",
          "name": "stdout",
          "text": [
            "Too many requests. Retrying prompt 234 after a delay...\n",
            "C\n",
            "A\n",
            "A\n",
            "A\n",
            "A\n",
            "A\n",
            "B\n",
            "B\n",
            "A\n",
            "A\n",
            "A\n",
            "B\n",
            "B\n",
            "A\n",
            "B\n",
            "B\n",
            "B\n",
            "A\n",
            "B\n",
            "C\n",
            "C\n",
            "A\n",
            "A\n",
            "A\n",
            "A\n",
            "A\n",
            "B\n",
            "B\n",
            "A\n",
            "B\n",
            "B\n",
            "A\n",
            "B\n",
            "C\n",
            "A\n",
            "A\n",
            "D\n",
            "D\n",
            "A\n",
            "C\n",
            "A\n",
            "A\n",
            "B\n",
            "A\n",
            "B\n",
            "B\n",
            "A\n",
            "D\n",
            "A\n",
            "C\n",
            "A\n",
            "A\n",
            "B\n",
            "D\n",
            "C\n",
            "A\n",
            "A\n",
            "B\n",
            "A\n",
            "B\n",
            "B\n",
            "B\n",
            "A\n",
            "D\n",
            "A\n",
            "C\n",
            "C\n",
            "Total correct responses by Gemini: 161/300\n",
            "Final accuracy: 53.67%\n"
          ]
        }
      ]
    },
    {
      "cell_type": "markdown",
      "source": [
        "Total correct responses by Gemini: 161/300\n",
        "Final accuracy: 53.67%"
      ],
      "metadata": {
        "id": "IT4kNee40Rnd"
      }
    },
    {
      "cell_type": "code",
      "source": [
        "df, prompts = read_prompts(\"/content/mcq3.tsv\")\n",
        "execute_prompts(df, prompts)"
      ],
      "metadata": {
        "colab": {
          "base_uri": "https://localhost:8080/",
          "height": 971
        },
        "id": "6PrVqH5o1kSb",
        "outputId": "f7a4ec54-05a0-4479-9259-9681a270a3f3"
      },
      "execution_count": null,
      "outputs": [
        {
          "output_type": "stream",
          "name": "stdout",
          "text": [
            "C\n",
            "C\n",
            "B\n",
            "B\n",
            "C\n",
            "B\n",
            "A\n",
            "B\n",
            "C\n",
            "D\n",
            "B\n",
            "C\n",
            "C\n",
            "D\n",
            "A\n",
            "B\n",
            "D\n",
            "D\n",
            "C\n",
            "C\n",
            "A\n",
            "C\n",
            "A\n",
            "A\n",
            "A\n",
            "D\n",
            "A\n",
            "A\n",
            "B\n",
            "B\n"
          ]
        },
        {
          "output_type": "stream",
          "name": "stderr",
          "text": [
            "WARNING:tornado.access:429 POST /v1beta/models/gemini-1.0-pro:generateContent?%24alt=json%3Benum-encoding%3Dint (127.0.0.1) 457.70ms\n"
          ]
        },
        {
          "output_type": "stream",
          "name": "stdout",
          "text": [
            "Too many requests. Retrying prompt 31 after a delay...\n",
            "C\n",
            "A\n",
            "B\n",
            "A\n",
            "C\n",
            "D\n",
            "A\n",
            "C\n",
            "C\n",
            "A\n",
            "C\n",
            "D\n",
            "C\n",
            "B\n",
            "C\n",
            "A\n",
            "A\n",
            "A\n",
            "A\n",
            "B\n",
            "B\n",
            "Total correct responses by Gemini: 29/51\n",
            "Final accuracy: 56.86%\n"
          ]
        }
      ]
    },
    {
      "cell_type": "markdown",
      "source": [
        "Total correct responses by Gemini: 29/51\n",
        "Final accuracy: 56.86%"
      ],
      "metadata": {
        "id": "sqvW_ALq2nnF"
      }
    },
    {
      "cell_type": "code",
      "source": [
        "import pandas as pd\n",
        "import time\n",
        "import requests\n",
        "from http.client import RemoteDisconnected\n",
        "from google.api_core.exceptions import TooManyRequests, InternalServerError\n",
        "import os\n",
        "\n",
        "def read_prompts_rcm(file):\n",
        "    try:\n",
        "        df = pd.read_csv(file, sep='\\t', encoding='utf-8')\n",
        "    except UnicodeDecodeError:\n",
        "        df = pd.read_csv(file, sep='\\t', encoding='ISO-8859-1')\n",
        "\n",
        "    prompts = []\n",
        "    for index, row in df.iterrows():\n",
        "        prompt = f\"\"\" you are a cybersecurity expert you have to analyze and map the following CVE description to the appropriate CWE , you response should contains only cwe id. \\\n",
        "        CVE description: {row['Description']}\n",
        "        \"\"\"\n",
        "        prompts.append(prompt)\n",
        "    return df, prompts\n",
        "\n",
        "def execute_prompts_rcm(df, prompts):\n",
        "    results = []\n",
        "    correct_answers = df['GT'].tolist()\n",
        "    total_correct = 0\n",
        "    max_retries = 5  # Maximum number of retries for connection errors\n",
        "\n",
        "    for i, prompt in enumerate(prompts):\n",
        "        retries = 0\n",
        "        while retries < max_retries:\n",
        "            try:\n",
        "                # This is a placeholder for the actual model call\n",
        "                response = model.generate_content(prompt)\n",
        "                if not hasattr(response, 'text'):\n",
        "                    raise ValueError(f\"Invalid operation: The `response.text` quick accessor requires the response to contain a valid `Part`, but none were returned. Please check the `candidate.safety_ratings` to determine if the response was blocked. Prompt number: {i+1}\")\n",
        "                result = response.text.strip()\n",
        "                print(result)\n",
        "                results.append(result)\n",
        "                if result.upper() == correct_answers[i].upper():\n",
        "                    total_correct += 1\n",
        "                # Add a delay between requests to avoid hitting the rate limit\n",
        "                time.sleep(2)  # Adjust the sleep duration as needed\n",
        "                break  # Exit the retry loop if successful\n",
        "            except TooManyRequests:\n",
        "                print(f\"Too many requests. Retrying prompt {i+1} after a delay...\")\n",
        "                time.sleep(60)  # Wait for 60 seconds before retrying\n",
        "            except (ConnectionError, RemoteDisconnected) as e:\n",
        "                print(f\"Connection error: {e}. Retrying prompt {i+1}...\")\n",
        "                retries += 1\n",
        "                time.sleep(2)  # Adjust the sleep duration as needed\n",
        "            except ValueError as e:\n",
        "                print(f\"ValueError: {e}. Retrying prompt {i+1}...\")\n",
        "                retries += 1\n",
        "                time.sleep(2)  # Adjust the sleep duration as needed\n",
        "            except InternalServerError as e:\n",
        "                print(f\"InternalServerError: {e}. Retrying prompt {i+1}...\")\n",
        "                retries += 1\n",
        "                time.sleep(2)  # Adjust the sleep duration as needed\n",
        "\n",
        "        if retries == max_retries:\n",
        "            print(f\"Failed to process prompt {i+1} after {max_retries} retries.\")\n",
        "            results.append(\"ERROR\")\n",
        "\n",
        "    df['Gemini Response'] = results\n",
        "\n",
        "    # Calculate the total correct answers\n",
        "    accuracy = total_correct / len(correct_answers)\n",
        "    output_file = \"/content/output_file_rcm.tsv\"\n",
        "\n",
        "    if os.path.exists(output_file) and os.path.getsize(output_file) > 0:\n",
        "        existing_df = pd.read_csv(output_file, sep='\\t', encoding='utf-8')\n",
        "        combined_df = pd.concat([existing_df, df], ignore_index=True)\n",
        "    else:\n",
        "        combined_df = df\n",
        "\n",
        "    # Save the updated file with Gemini's responses\n",
        "    combined_df.to_csv(output_file, sep='\\t', index=False)\n",
        "\n",
        "    # Print the total correct answers\n",
        "    print(f'Total correct responses by Gemini: {total_correct}/{len(correct_answers)}')\n",
        "    # Print the final accuracy\n",
        "    print(f'Final accuracy: {accuracy:.2%}')\n",
        "\n",
        "df, prompts = read_prompts_rcm(\"/content/crm1.tsv\")\n",
        "execute_prompts_rcm(df, prompts)\n"
      ],
      "metadata": {
        "colab": {
          "base_uri": "https://localhost:8080/",
          "height": 315
        },
        "id": "_lwQyAemQ26T",
        "outputId": "86545be6-ce14-4d34-8f16-72b93089641a"
      },
      "execution_count": null,
      "outputs": [
        {
          "output_type": "error",
          "ename": "NameError",
          "evalue": "name 'model' is not defined",
          "traceback": [
            "\u001b[0;31m---------------------------------------------------------------------------\u001b[0m",
            "\u001b[0;31mNameError\u001b[0m                                 Traceback (most recent call last)",
            "\u001b[0;32m<ipython-input-1-3472ddbb5fdd>\u001b[0m in \u001b[0;36m<cell line: 85>\u001b[0;34m()\u001b[0m\n\u001b[1;32m     83\u001b[0m \u001b[0;34m\u001b[0m\u001b[0m\n\u001b[1;32m     84\u001b[0m \u001b[0mdf\u001b[0m\u001b[0;34m,\u001b[0m \u001b[0mprompts\u001b[0m \u001b[0;34m=\u001b[0m \u001b[0mread_prompts_rcm\u001b[0m\u001b[0;34m(\u001b[0m\u001b[0;34m\"/content/crm1.tsv\"\u001b[0m\u001b[0;34m)\u001b[0m\u001b[0;34m\u001b[0m\u001b[0;34m\u001b[0m\u001b[0m\n\u001b[0;32m---> 85\u001b[0;31m \u001b[0mexecute_prompts_rcm\u001b[0m\u001b[0;34m(\u001b[0m\u001b[0mdf\u001b[0m\u001b[0;34m,\u001b[0m \u001b[0mprompts\u001b[0m\u001b[0;34m)\u001b[0m\u001b[0;34m\u001b[0m\u001b[0;34m\u001b[0m\u001b[0m\n\u001b[0m",
            "\u001b[0;32m<ipython-input-1-3472ddbb5fdd>\u001b[0m in \u001b[0;36mexecute_prompts_rcm\u001b[0;34m(df, prompts)\u001b[0m\n\u001b[1;32m     31\u001b[0m             \u001b[0;32mtry\u001b[0m\u001b[0;34m:\u001b[0m\u001b[0;34m\u001b[0m\u001b[0;34m\u001b[0m\u001b[0m\n\u001b[1;32m     32\u001b[0m                 \u001b[0;31m# This is a placeholder for the actual model call\u001b[0m\u001b[0;34m\u001b[0m\u001b[0;34m\u001b[0m\u001b[0m\n\u001b[0;32m---> 33\u001b[0;31m                 \u001b[0mresponse\u001b[0m \u001b[0;34m=\u001b[0m \u001b[0mmodel\u001b[0m\u001b[0;34m.\u001b[0m\u001b[0mgenerate_content\u001b[0m\u001b[0;34m(\u001b[0m\u001b[0mprompt\u001b[0m\u001b[0;34m)\u001b[0m\u001b[0;34m\u001b[0m\u001b[0;34m\u001b[0m\u001b[0m\n\u001b[0m\u001b[1;32m     34\u001b[0m                 \u001b[0;32mif\u001b[0m \u001b[0;32mnot\u001b[0m \u001b[0mhasattr\u001b[0m\u001b[0;34m(\u001b[0m\u001b[0mresponse\u001b[0m\u001b[0;34m,\u001b[0m \u001b[0;34m'text'\u001b[0m\u001b[0;34m)\u001b[0m\u001b[0;34m:\u001b[0m\u001b[0;34m\u001b[0m\u001b[0;34m\u001b[0m\u001b[0m\n\u001b[1;32m     35\u001b[0m                     \u001b[0;32mraise\u001b[0m \u001b[0mValueError\u001b[0m\u001b[0;34m(\u001b[0m\u001b[0;34mf\"Invalid operation: The `response.text` quick accessor requires the response to contain a valid `Part`, but none were returned. Please check the `candidate.safety_ratings` to determine if the response was blocked. Prompt number: {i+1}\"\u001b[0m\u001b[0;34m)\u001b[0m\u001b[0;34m\u001b[0m\u001b[0;34m\u001b[0m\u001b[0m\n",
            "\u001b[0;31mNameError\u001b[0m: name 'model' is not defined"
          ]
        }
      ]
    },
    {
      "cell_type": "code",
      "source": [
        "prompti = \"\"\" Based on the following description, what is the CWE ID? \\\n",
        "CVE Description: In the Linux kernel through 6.7.1, there is a use-after-free in cec_queue_msg_fh, related to drivers/media/cec/core/cec-adap.c and drivers/media/cec/core/cec-api.c. \\\n",
        "\"\"\"\n",
        "response = model.generate_content(prompti)\n",
        "print(response.text)\n"
      ],
      "metadata": {
        "colab": {
          "base_uri": "https://localhost:8080/",
          "height": 315
        },
        "id": "upG3kJ-PYKCZ",
        "outputId": "633e3c1c-cc08-4bb6-8435-76c820015854"
      },
      "execution_count": null,
      "outputs": [
        {
          "output_type": "error",
          "ename": "ValueError",
          "evalue": "Invalid operation: The `response.text` quick accessor requires the response to contain a valid `Part`, but none were returned. Please check the `candidate.safety_ratings` to determine if the response was blocked.",
          "traceback": [
            "\u001b[0;31m---------------------------------------------------------------------------\u001b[0m",
            "\u001b[0;31mValueError\u001b[0m                                Traceback (most recent call last)",
            "\u001b[0;32m<ipython-input-27-45aafe06cf1c>\u001b[0m in \u001b[0;36m<cell line: 5>\u001b[0;34m()\u001b[0m\n\u001b[1;32m      3\u001b[0m \"\"\"\n\u001b[1;32m      4\u001b[0m \u001b[0mresponse\u001b[0m \u001b[0;34m=\u001b[0m \u001b[0mmodel\u001b[0m\u001b[0;34m.\u001b[0m\u001b[0mgenerate_content\u001b[0m\u001b[0;34m(\u001b[0m\u001b[0mprompti\u001b[0m\u001b[0;34m)\u001b[0m\u001b[0;34m\u001b[0m\u001b[0;34m\u001b[0m\u001b[0m\n\u001b[0;32m----> 5\u001b[0;31m \u001b[0mprint\u001b[0m\u001b[0;34m(\u001b[0m\u001b[0mresponse\u001b[0m\u001b[0;34m.\u001b[0m\u001b[0mtext\u001b[0m\u001b[0;34m)\u001b[0m\u001b[0;34m\u001b[0m\u001b[0;34m\u001b[0m\u001b[0m\n\u001b[0m",
            "\u001b[0;32m/usr/local/lib/python3.10/dist-packages/google/generativeai/types/generation_types.py\u001b[0m in \u001b[0;36mtext\u001b[0;34m(self)\u001b[0m\n\u001b[1;32m    434\u001b[0m         \u001b[0mparts\u001b[0m \u001b[0;34m=\u001b[0m \u001b[0mself\u001b[0m\u001b[0;34m.\u001b[0m\u001b[0mparts\u001b[0m\u001b[0;34m\u001b[0m\u001b[0;34m\u001b[0m\u001b[0m\n\u001b[1;32m    435\u001b[0m         \u001b[0;32mif\u001b[0m \u001b[0;32mnot\u001b[0m \u001b[0mparts\u001b[0m\u001b[0;34m:\u001b[0m\u001b[0;34m\u001b[0m\u001b[0;34m\u001b[0m\u001b[0m\n\u001b[0;32m--> 436\u001b[0;31m             raise ValueError(\n\u001b[0m\u001b[1;32m    437\u001b[0m                 \u001b[0;34m\"Invalid operation: The `response.text` quick accessor requires the response to contain a valid `Part`, \"\u001b[0m\u001b[0;34m\u001b[0m\u001b[0;34m\u001b[0m\u001b[0m\n\u001b[1;32m    438\u001b[0m                 \u001b[0;34m\"but none were returned. Please check the `candidate.safety_ratings` to determine if the response was blocked.\"\u001b[0m\u001b[0;34m\u001b[0m\u001b[0;34m\u001b[0m\u001b[0m\n",
            "\u001b[0;31mValueError\u001b[0m: Invalid operation: The `response.text` quick accessor requires the response to contain a valid `Part`, but none were returned. Please check the `candidate.safety_ratings` to determine if the response was blocked."
          ]
        }
      ]
    },
    {
      "cell_type": "code",
      "source": [
        "!pip install cvss"
      ],
      "metadata": {
        "colab": {
          "base_uri": "https://localhost:8080/"
        },
        "id": "OjhyJsR3aA2b",
        "outputId": "9b91efcf-be0a-4b8f-fef3-c806f585aaa1"
      },
      "execution_count": null,
      "outputs": [
        {
          "output_type": "stream",
          "name": "stdout",
          "text": [
            "Collecting cvss\n",
            "  Downloading cvss-3.1-py2.py3-none-any.whl.metadata (3.5 kB)\n",
            "Downloading cvss-3.1-py2.py3-none-any.whl (30 kB)\n",
            "Installing collected packages: cvss\n",
            "Successfully installed cvss-3.1\n"
          ]
        }
      ]
    },
    {
      "cell_type": "code",
      "source": [
        "import pandas as pd\n",
        "\n",
        "def read_prompts_vsp(file):\n",
        "    try:\n",
        "        df = pd.read_csv(file, sep='\\t', encoding='utf-8')\n",
        "    except UnicodeDecodeError:\n",
        "        df = pd.read_csv(file, sep='\\t', encoding='ISO-8859-1')\n",
        "\n",
        "    prompts = []\n",
        "    for index, row in df.iterrows():\n",
        "        prompt = f\"\"\"\n",
        "        Analyze the following CVE description, calculate the CVSS v3.1 Base Score and determine the values for each base metric: AV, AC, PR, UI, S, C, I, and A. \\\n",
        "\n",
        "        Valid options for each metric are as follows: \\\n",
        "        - Attack Vector (AV): Network (N), Adjacent (A), Local (L), Physical (P) \\\n",
        "        - Attack Complexity (AC): Low (L), High (H) \\\n",
        "        - Privileges Required (PR): None (N), Low (L), High (H) \\\n",
        "        - User Interaction (UI): None (N), Required (R) \\\n",
        "        - Scope (S): Unchanged (U), Changed (C) \\\n",
        "        - Confidentiality (C): None (N), Low (L), High (H) \\\n",
        "        - Integrity (I): None (N), Low (L), High (H) \\\n",
        "        - Availability (A): None (N), Low (L), High (H) \\\n",
        "\n",
        "        provide only response in format below don't writr paragraphs or introduction just give me the CVSS v3 Vector String. \\\n",
        "        ** important ** your answer should be CVSS v3 Vector String in the following format: \\\n",
        "        Example format: CVSS:3.1/AV:N/AC:L/PR:N/UI:N/S:U/C:H/I:H/A:H \\\n",
        "\n",
        "        CVE Description: {row['Description']}\n",
        "        \"\"\"\n",
        "        prompts.append(prompt)\n",
        "\n",
        "    return df, prompts\n"
      ],
      "metadata": {
        "id": "xlu6gQLVaNWO"
      },
      "execution_count": null,
      "outputs": []
    },
    {
      "cell_type": "code",
      "source": [
        "from cvss import CVSS3\n",
        "def get_cvss_score(cvss_vector):\n",
        "    c = CVSS3(cvss_vector)\n",
        "    cvss_score = c.scores()[0]\n",
        "    return cvss_score"
      ],
      "metadata": {
        "id": "0IHR5fwLaxBv"
      },
      "execution_count": null,
      "outputs": []
    },
    {
      "cell_type": "code",
      "source": [
        "def execute_prompts_vsp(df, prompts):\n",
        "    results = []\n",
        "    valid_indices = []  # To track the indices of valid responses\n",
        "    correct_answers = df['GT'].tolist()\n",
        "    error = 0\n",
        "    total = 0\n",
        "    max_retries = 5  # Limit the number of retries\n",
        "\n",
        "    for i, prompt in enumerate(prompts):\n",
        "        retries = 0\n",
        "        success = False\n",
        "        while retries < max_retries:\n",
        "            try:\n",
        "                response = model.generate_content(prompt)\n",
        "\n",
        "                # Check if the response content exists\n",
        "                if not response or not hasattr(response, 'text') or not response.text:\n",
        "                    raise ValueError(f\"No valid response for prompt number {i+1}. Response might be blocked or empty.\")\n",
        "\n",
        "                result = response.text.strip()\n",
        "                print(f\"Response for prompt {i+1}: {result}\")\n",
        "                pred = result.upper()\n",
        "                gt = correct_answers[i].upper()\n",
        "\n",
        "                try:\n",
        "                    pred_vector = pred\n",
        "                    pred_score = get_cvss_score(pred_vector)\n",
        "                    gt_score = get_cvss_score(gt)\n",
        "                    if pred_score is not None and gt_score is not None:\n",
        "                        error += abs(pred_score - gt_score)\n",
        "                        total += 1\n",
        "                except Exception as e:\n",
        "                    print(f\"Invalid response at row {i + 1}: {e}\")\n",
        "                    continue\n",
        "\n",
        "                results.append(result)\n",
        "                valid_indices.append(i)  # Track the index of valid responses\n",
        "                success = True\n",
        "                # Add a delay between requests to avoid hitting the rate limit\n",
        "                time.sleep(2)  # Adjust the sleep duration as needed\n",
        "                break  # Exit the retry loop if successful\n",
        "            except TooManyRequests:\n",
        "                print(f\"Too many requests. Retrying prompt {i+1} after a delay...\")\n",
        "                time.sleep(60)  # Wait for 60 seconds before retrying\n",
        "                retries += 1\n",
        "            except (ConnectionError, RemoteDisconnected) as e:\n",
        "                print(f\"Connection error: {e}. Retrying prompt {i+1}...\")\n",
        "                retries += 1\n",
        "                time.sleep(2)  # Adjust the sleep duration as needed\n",
        "            except ValueError as e:\n",
        "                print(f\"ValueError: {e}. Skipping prompt number {i+1}.\")\n",
        "                break  # Skip this prompt\n",
        "            except InternalServerError as e:\n",
        "                print(f\"InternalServerError: {e}. Skipping prompt number {i+1}.\")\n",
        "                break  # Skip this prompt\n",
        "\n",
        "        if not success:\n",
        "            print(f\"Failed to process prompt {i+1} after {max_retries} retries.\")\n",
        "\n",
        "    # Filter the DataFrame to include only rows with valid responses\n",
        "    filtered_df = df.iloc[valid_indices].copy()\n",
        "    filtered_df['Llama3-70b Response'] = results\n",
        "\n",
        "    output_file = \"/content/output_file_vsp.tsv\"\n",
        "\n",
        "    if os.path.exists(output_file) and os.path.getsize(output_file) > 0:\n",
        "        existing_df = pd.read_csv(output_file, sep='\\t', encoding='utf-8')\n",
        "        combined_df = pd.concat([existing_df, filtered_df], ignore_index=True)\n",
        "    else:\n",
        "        combined_df = filtered_df\n",
        "\n",
        "    # Save the updated file with the valid responses\n",
        "    combined_df.to_csv(output_file, sep='\\t', index=False)\n",
        "\n",
        "    # Calculate and print the Mean Absolute Deviation (MAD)\n",
        "    if total > 0:\n",
        "        mad = error / total\n",
        "        print(f'Mean Absolute Deviation: {mad}')\n",
        "    else:\n",
        "        print('No valid responses to calculate MAD.')\n",
        "\n",
        "# Example usage\n",
        "df, prompts = read_prompts_vsp(\"/content/cti-vsp11.tsv\")\n",
        "execute_prompts_vsp(df, prompts)\n"
      ],
      "metadata": {
        "id": "Ia7GTF_2azyZ",
        "colab": {
          "base_uri": "https://localhost:8080/",
          "height": 425
        },
        "outputId": "931a325d-65bf-4ee9-8fbb-08d5d9b0f694"
      },
      "execution_count": null,
      "outputs": [
        {
          "output_type": "error",
          "ename": "NameError",
          "evalue": "name 'TooManyRequests' is not defined",
          "traceback": [
            "\u001b[0;31m---------------------------------------------------------------------------\u001b[0m",
            "\u001b[0;31mValueError\u001b[0m                                Traceback (most recent call last)",
            "\u001b[0;32m<ipython-input-11-29111e9bf908>\u001b[0m in \u001b[0;36mexecute_prompts_vsp\u001b[0;34m(df, prompts)\u001b[0m\n\u001b[1;32m     16\u001b[0m                 \u001b[0;31m# Check if the response content exists\u001b[0m\u001b[0;34m\u001b[0m\u001b[0;34m\u001b[0m\u001b[0m\n\u001b[0;32m---> 17\u001b[0;31m                 \u001b[0;32mif\u001b[0m \u001b[0;32mnot\u001b[0m \u001b[0mresponse\u001b[0m \u001b[0;32mor\u001b[0m \u001b[0;32mnot\u001b[0m \u001b[0mhasattr\u001b[0m\u001b[0;34m(\u001b[0m\u001b[0mresponse\u001b[0m\u001b[0;34m,\u001b[0m \u001b[0;34m'text'\u001b[0m\u001b[0;34m)\u001b[0m \u001b[0;32mor\u001b[0m \u001b[0;32mnot\u001b[0m \u001b[0mresponse\u001b[0m\u001b[0;34m.\u001b[0m\u001b[0mtext\u001b[0m\u001b[0;34m:\u001b[0m\u001b[0;34m\u001b[0m\u001b[0;34m\u001b[0m\u001b[0m\n\u001b[0m\u001b[1;32m     18\u001b[0m                     \u001b[0;32mraise\u001b[0m \u001b[0mValueError\u001b[0m\u001b[0;34m(\u001b[0m\u001b[0;34mf\"No valid response for prompt number {i+1}. Response might be blocked or empty.\"\u001b[0m\u001b[0;34m)\u001b[0m\u001b[0;34m\u001b[0m\u001b[0;34m\u001b[0m\u001b[0m\n",
            "\u001b[0;32m/usr/local/lib/python3.10/dist-packages/google/generativeai/types/generation_types.py\u001b[0m in \u001b[0;36mtext\u001b[0;34m(self)\u001b[0m\n\u001b[1;32m    435\u001b[0m         \u001b[0;32mif\u001b[0m \u001b[0;32mnot\u001b[0m \u001b[0mparts\u001b[0m\u001b[0;34m:\u001b[0m\u001b[0;34m\u001b[0m\u001b[0;34m\u001b[0m\u001b[0m\n\u001b[0;32m--> 436\u001b[0;31m             raise ValueError(\n\u001b[0m\u001b[1;32m    437\u001b[0m                 \u001b[0;34m\"Invalid operation: The `response.text` quick accessor requires the response to contain a valid `Part`, \"\u001b[0m\u001b[0;34m\u001b[0m\u001b[0;34m\u001b[0m\u001b[0m\n",
            "\u001b[0;31mValueError\u001b[0m: Invalid operation: The `response.text` quick accessor requires the response to contain a valid `Part`, but none were returned. Please check the `candidate.safety_ratings` to determine if the response was blocked.",
            "\nDuring handling of the above exception, another exception occurred:\n",
            "\u001b[0;31mNameError\u001b[0m                                 Traceback (most recent call last)",
            "\u001b[0;32m<ipython-input-11-29111e9bf908>\u001b[0m in \u001b[0;36m<cell line: 84>\u001b[0;34m()\u001b[0m\n\u001b[1;32m     82\u001b[0m \u001b[0;31m# Example usage\u001b[0m\u001b[0;34m\u001b[0m\u001b[0;34m\u001b[0m\u001b[0m\n\u001b[1;32m     83\u001b[0m \u001b[0mdf\u001b[0m\u001b[0;34m,\u001b[0m \u001b[0mprompts\u001b[0m \u001b[0;34m=\u001b[0m \u001b[0mread_prompts_vsp\u001b[0m\u001b[0;34m(\u001b[0m\u001b[0;34m\"/content/cti-vsp11.tsv\"\u001b[0m\u001b[0;34m)\u001b[0m\u001b[0;34m\u001b[0m\u001b[0;34m\u001b[0m\u001b[0m\n\u001b[0;32m---> 84\u001b[0;31m \u001b[0mexecute_prompts_vsp\u001b[0m\u001b[0;34m(\u001b[0m\u001b[0mdf\u001b[0m\u001b[0;34m,\u001b[0m \u001b[0mprompts\u001b[0m\u001b[0;34m)\u001b[0m\u001b[0;34m\u001b[0m\u001b[0;34m\u001b[0m\u001b[0m\n\u001b[0m",
            "\u001b[0;32m<ipython-input-11-29111e9bf908>\u001b[0m in \u001b[0;36mexecute_prompts_vsp\u001b[0;34m(df, prompts)\u001b[0m\n\u001b[1;32m     40\u001b[0m                 \u001b[0mtime\u001b[0m\u001b[0;34m.\u001b[0m\u001b[0msleep\u001b[0m\u001b[0;34m(\u001b[0m\u001b[0;36m2\u001b[0m\u001b[0;34m)\u001b[0m  \u001b[0;31m# Adjust the sleep duration as needed\u001b[0m\u001b[0;34m\u001b[0m\u001b[0;34m\u001b[0m\u001b[0m\n\u001b[1;32m     41\u001b[0m                 \u001b[0;32mbreak\u001b[0m  \u001b[0;31m# Exit the retry loop if successful\u001b[0m\u001b[0;34m\u001b[0m\u001b[0;34m\u001b[0m\u001b[0m\n\u001b[0;32m---> 42\u001b[0;31m             \u001b[0;32mexcept\u001b[0m \u001b[0mTooManyRequests\u001b[0m\u001b[0;34m:\u001b[0m\u001b[0;34m\u001b[0m\u001b[0;34m\u001b[0m\u001b[0m\n\u001b[0m\u001b[1;32m     43\u001b[0m                 \u001b[0mprint\u001b[0m\u001b[0;34m(\u001b[0m\u001b[0;34mf\"Too many requests. Retrying prompt {i+1} after a delay...\"\u001b[0m\u001b[0;34m)\u001b[0m\u001b[0;34m\u001b[0m\u001b[0;34m\u001b[0m\u001b[0m\n\u001b[1;32m     44\u001b[0m                 \u001b[0mtime\u001b[0m\u001b[0;34m.\u001b[0m\u001b[0msleep\u001b[0m\u001b[0;34m(\u001b[0m\u001b[0;36m60\u001b[0m\u001b[0;34m)\u001b[0m  \u001b[0;31m# Wait for 60 seconds before retrying\u001b[0m\u001b[0;34m\u001b[0m\u001b[0;34m\u001b[0m\u001b[0m\n",
            "\u001b[0;31mNameError\u001b[0m: name 'TooManyRequests' is not defined"
          ]
        }
      ]
    },
    {
      "cell_type": "code",
      "source": [],
      "metadata": {
        "id": "ejAwwvBNZZKa"
      },
      "execution_count": null,
      "outputs": []
    }
  ],
  "metadata": {
    "colab": {
      "provenance": []
    },
    "kernelspec": {
      "display_name": "Python 3",
      "name": "python3"
    },
    "language_info": {
      "name": "python"
    }
  },
  "nbformat": 4,
  "nbformat_minor": 0
}